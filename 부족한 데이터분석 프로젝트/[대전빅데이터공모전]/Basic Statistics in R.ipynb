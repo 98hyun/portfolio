{
 "cells": [
  {
   "cell_type": "code",
   "execution_count": 1,
   "metadata": {},
   "outputs": [],
   "source": [
    "#@author: Venky Rao raove@us.ibm.com\n",
    "#@last edited: 13 Sep 2017\n",
    "#@source: materials, data and examples adapted from R in Action 2nd Edition by Dr. Robert Kabacoff"
   ]
  },
  {
   "cell_type": "markdown",
   "metadata": {},
   "source": [
    "# 기초통계학"
   ]
  },
  {
   "cell_type": "markdown",
   "metadata": {},
   "source": [
    "## 기술통계"
   ]
  },
  {
   "cell_type": "code",
   "execution_count": 2,
   "metadata": {},
   "outputs": [
    {
     "data": {
      "text/html": [
       "<table>\n",
       "<caption>A data.frame: 6 × 3</caption>\n",
       "<thead>\n",
       "\t<tr><th></th><th scope=col>mpg</th><th scope=col>hp</th><th scope=col>wt</th></tr>\n",
       "\t<tr><th></th><th scope=col>&lt;dbl&gt;</th><th scope=col>&lt;dbl&gt;</th><th scope=col>&lt;dbl&gt;</th></tr>\n",
       "</thead>\n",
       "<tbody>\n",
       "\t<tr><th scope=row>Mazda RX4</th><td>21.0</td><td>110</td><td>2.620</td></tr>\n",
       "\t<tr><th scope=row>Mazda RX4 Wag</th><td>21.0</td><td>110</td><td>2.875</td></tr>\n",
       "\t<tr><th scope=row>Datsun 710</th><td>22.8</td><td> 93</td><td>2.320</td></tr>\n",
       "\t<tr><th scope=row>Hornet 4 Drive</th><td>21.4</td><td>110</td><td>3.215</td></tr>\n",
       "\t<tr><th scope=row>Hornet Sportabout</th><td>18.7</td><td>175</td><td>3.440</td></tr>\n",
       "\t<tr><th scope=row>Valiant</th><td>18.1</td><td>105</td><td>3.460</td></tr>\n",
       "</tbody>\n",
       "</table>\n"
      ],
      "text/latex": [
       "A data.frame: 6 × 3\n",
       "\\begin{tabular}{r|lll}\n",
       "  & mpg & hp & wt\\\\\n",
       "  & <dbl> & <dbl> & <dbl>\\\\\n",
       "\\hline\n",
       "\tMazda RX4 & 21.0 & 110 & 2.620\\\\\n",
       "\tMazda RX4 Wag & 21.0 & 110 & 2.875\\\\\n",
       "\tDatsun 710 & 22.8 &  93 & 2.320\\\\\n",
       "\tHornet 4 Drive & 21.4 & 110 & 3.215\\\\\n",
       "\tHornet Sportabout & 18.7 & 175 & 3.440\\\\\n",
       "\tValiant & 18.1 & 105 & 3.460\\\\\n",
       "\\end{tabular}\n"
      ],
      "text/markdown": [
       "\n",
       "A data.frame: 6 × 3\n",
       "\n",
       "| <!--/--> | mpg &lt;dbl&gt; | hp &lt;dbl&gt; | wt &lt;dbl&gt; |\n",
       "|---|---|---|---|\n",
       "| Mazda RX4 | 21.0 | 110 | 2.620 |\n",
       "| Mazda RX4 Wag | 21.0 | 110 | 2.875 |\n",
       "| Datsun 710 | 22.8 |  93 | 2.320 |\n",
       "| Hornet 4 Drive | 21.4 | 110 | 3.215 |\n",
       "| Hornet Sportabout | 18.7 | 175 | 3.440 |\n",
       "| Valiant | 18.1 | 105 | 3.460 |\n",
       "\n"
      ],
      "text/plain": [
       "                  mpg  hp  wt   \n",
       "Mazda RX4         21.0 110 2.620\n",
       "Mazda RX4 Wag     21.0 110 2.875\n",
       "Datsun 710        22.8  93 2.320\n",
       "Hornet 4 Drive    21.4 110 3.215\n",
       "Hornet Sportabout 18.7 175 3.440\n",
       "Valiant           18.1 105 3.460"
      ]
     },
     "metadata": {},
     "output_type": "display_data"
    }
   ],
   "source": [
    "#이 섹션에서는 연속 변수에 대한 중심 경향, 가변성 및 분포 모양 측정을 검토합니다.\n",
    "#R의 기본 설치와 함께 제공되는 mtcars 데이터 세트를 사용합니다.\n",
    "\n",
    "myvars=c(\"mpg\",\"hp\",\"wt\")\n",
    "head(mtcars[myvars])"
   ]
  },
  {
   "cell_type": "code",
   "execution_count": 3,
   "metadata": {},
   "outputs": [],
   "source": [
    "#먼저 32 대의 모든 자동차에 대한 기술 통계를 살펴 보겠습니다. 그런 다음 전송 유형 (am) 및 실린더 수 (cyl)별로 기술 통계를 검토합니다.\n",
    "#변속기 유형은 0 = 자동, 1 = 수동으로 코딩 된이 분형 변수입니다.\n",
    "#실린더 수는 4, 5 또는 6이 될 수 있습니다."
   ]
  },
  {
   "cell_type": "code",
   "execution_count": 4,
   "metadata": {},
   "outputs": [
    {
     "data": {
      "text/plain": [
       "      mpg              hp              wt       \n",
       " Min.   :10.40   Min.   : 52.0   Min.   :1.513  \n",
       " 1st Qu.:15.43   1st Qu.: 96.5   1st Qu.:2.581  \n",
       " Median :19.20   Median :123.0   Median :3.325  \n",
       " Mean   :20.09   Mean   :146.7   Mean   :3.217  \n",
       " 3rd Qu.:22.80   3rd Qu.:180.0   3rd Qu.:3.610  \n",
       " Max.   :33.90   Max.   :335.0   Max.   :5.424  "
      ]
     },
     "metadata": {},
     "output_type": "display_data"
    }
   ],
   "source": [
    "#R의 기본 설치에서 summary () 함수를 사용하여 기술 통계를 얻을 수 있습니다.\n",
    "summary(mtcars[myvars])"
   ]
  },
  {
   "cell_type": "code",
   "execution_count": 5,
   "metadata": {},
   "outputs": [],
   "source": [
    "#요약 통계를위한 사용자 정의 함수 생성\n",
    "mystats=function(x,na.omit=F){\n",
    "    if (na.omit){\n",
    "        x=x[!is.na(x)]\n",
    "    }\n",
    "    m=mean(x)\n",
    "    n=length(x)\n",
    "    s=sd(x)\n",
    "    skew=sum((x-m)^3/s^3)/n\n",
    "    kurt=sum((x-m)^4/s^4)/n-3 \n",
    "    return (c(n=n,mean=m,stdev=s,skew=skew,kurosis=kurt))\n",
    "}"
   ]
  },
  {
   "cell_type": "code",
   "execution_count": 60,
   "metadata": {},
   "outputs": [
    {
     "data": {
      "text/html": [
       "<table>\n",
       "<caption>A matrix: 5 × 3 of type dbl</caption>\n",
       "<thead>\n",
       "\t<tr><th></th><th scope=col>mpg</th><th scope=col>hp</th><th scope=col>wt</th></tr>\n",
       "</thead>\n",
       "<tbody>\n",
       "\t<tr><th scope=row>n</th><td>32.000</td><td> 32.000</td><td>32.0000</td></tr>\n",
       "\t<tr><th scope=row>mean</th><td>20.091</td><td>146.688</td><td> 3.2172</td></tr>\n",
       "\t<tr><th scope=row>stdev</th><td> 6.027</td><td> 68.563</td><td> 0.9785</td></tr>\n",
       "\t<tr><th scope=row>skew</th><td> 0.611</td><td>  0.726</td><td> 0.4231</td></tr>\n",
       "\t<tr><th scope=row>kurosis</th><td>-0.373</td><td> -0.136</td><td>-0.0227</td></tr>\n",
       "</tbody>\n",
       "</table>\n"
      ],
      "text/latex": [
       "A matrix: 5 × 3 of type dbl\n",
       "\\begin{tabular}{r|lll}\n",
       "  & mpg & hp & wt\\\\\n",
       "\\hline\n",
       "\tn & 32.000 &  32.000 & 32.0000\\\\\n",
       "\tmean & 20.091 & 146.688 &  3.2172\\\\\n",
       "\tstdev &  6.027 &  68.563 &  0.9785\\\\\n",
       "\tskew &  0.611 &   0.726 &  0.4231\\\\\n",
       "\tkurosis & -0.373 &  -0.136 & -0.0227\\\\\n",
       "\\end{tabular}\n"
      ],
      "text/markdown": [
       "\n",
       "A matrix: 5 × 3 of type dbl\n",
       "\n",
       "| <!--/--> | mpg | hp | wt |\n",
       "|---|---|---|---|\n",
       "| n | 32.000 |  32.000 | 32.0000 |\n",
       "| mean | 20.091 | 146.688 |  3.2172 |\n",
       "| stdev |  6.027 |  68.563 |  0.9785 |\n",
       "| skew |  0.611 |   0.726 |  0.4231 |\n",
       "| kurosis | -0.373 |  -0.136 | -0.0227 |\n",
       "\n"
      ],
      "text/plain": [
       "        mpg    hp      wt     \n",
       "n       32.000  32.000 32.0000\n",
       "mean    20.091 146.688  3.2172\n",
       "stdev    6.027  68.563  0.9785\n",
       "skew     0.611   0.726  0.4231\n",
       "kurosis -0.373  -0.136 -0.0227"
      ]
     },
     "metadata": {},
     "output_type": "display_data"
    }
   ],
   "source": [
    "#사용자 정의 함수를 데이터 세트에 적용\n",
    "options(digits=3) #가독성을 높이기 위해 소수점을 3 자리로 유지\n",
    "sapply(mtcars[myvars],mystats)"
   ]
  },
  {
   "cell_type": "code",
   "execution_count": 7,
   "metadata": {},
   "outputs": [
    {
     "data": {
      "text/html": [
       "<table>\n",
       "<caption>A psych: 3 × 13</caption>\n",
       "<thead>\n",
       "\t<tr><th></th><th scope=col>vars</th><th scope=col>n</th><th scope=col>mean</th><th scope=col>sd</th><th scope=col>median</th><th scope=col>trimmed</th><th scope=col>mad</th><th scope=col>min</th><th scope=col>max</th><th scope=col>range</th><th scope=col>skew</th><th scope=col>kurtosis</th><th scope=col>se</th></tr>\n",
       "\t<tr><th></th><th scope=col>&lt;int&gt;</th><th scope=col>&lt;dbl&gt;</th><th scope=col>&lt;dbl&gt;</th><th scope=col>&lt;dbl&gt;</th><th scope=col>&lt;dbl&gt;</th><th scope=col>&lt;dbl&gt;</th><th scope=col>&lt;dbl&gt;</th><th scope=col>&lt;dbl&gt;</th><th scope=col>&lt;dbl&gt;</th><th scope=col>&lt;dbl&gt;</th><th scope=col>&lt;dbl&gt;</th><th scope=col>&lt;dbl&gt;</th><th scope=col>&lt;dbl&gt;</th></tr>\n",
       "</thead>\n",
       "<tbody>\n",
       "\t<tr><th scope=row>mpg</th><td>1</td><td>32</td><td> 20.09</td><td> 6.027</td><td> 19.20</td><td> 19.70</td><td> 5.411</td><td>10.40</td><td> 33.90</td><td> 23.50</td><td>0.611</td><td>-0.3728</td><td> 1.065</td></tr>\n",
       "\t<tr><th scope=row>hp</th><td>2</td><td>32</td><td>146.69</td><td>68.563</td><td>123.00</td><td>141.19</td><td>77.095</td><td>52.00</td><td>335.00</td><td>283.00</td><td>0.726</td><td>-0.1356</td><td>12.120</td></tr>\n",
       "\t<tr><th scope=row>wt</th><td>3</td><td>32</td><td>  3.22</td><td> 0.978</td><td>  3.33</td><td>  3.15</td><td> 0.767</td><td> 1.51</td><td>  5.42</td><td>  3.91</td><td>0.423</td><td>-0.0227</td><td> 0.173</td></tr>\n",
       "</tbody>\n",
       "</table>\n"
      ],
      "text/latex": [
       "A psych: 3 × 13\n",
       "\\begin{tabular}{r|lllllllllllll}\n",
       "  & vars & n & mean & sd & median & trimmed & mad & min & max & range & skew & kurtosis & se\\\\\n",
       "  & <int> & <dbl> & <dbl> & <dbl> & <dbl> & <dbl> & <dbl> & <dbl> & <dbl> & <dbl> & <dbl> & <dbl> & <dbl>\\\\\n",
       "\\hline\n",
       "\tmpg & 1 & 32 &  20.09 &  6.027 &  19.20 &  19.70 &  5.411 & 10.40 &  33.90 &  23.50 & 0.611 & -0.3728 &  1.065\\\\\n",
       "\thp & 2 & 32 & 146.69 & 68.563 & 123.00 & 141.19 & 77.095 & 52.00 & 335.00 & 283.00 & 0.726 & -0.1356 & 12.120\\\\\n",
       "\twt & 3 & 32 &   3.22 &  0.978 &   3.33 &   3.15 &  0.767 &  1.51 &   5.42 &   3.91 & 0.423 & -0.0227 &  0.173\\\\\n",
       "\\end{tabular}\n"
      ],
      "text/markdown": [
       "\n",
       "A psych: 3 × 13\n",
       "\n",
       "| <!--/--> | vars &lt;int&gt; | n &lt;dbl&gt; | mean &lt;dbl&gt; | sd &lt;dbl&gt; | median &lt;dbl&gt; | trimmed &lt;dbl&gt; | mad &lt;dbl&gt; | min &lt;dbl&gt; | max &lt;dbl&gt; | range &lt;dbl&gt; | skew &lt;dbl&gt; | kurtosis &lt;dbl&gt; | se &lt;dbl&gt; |\n",
       "|---|---|---|---|---|---|---|---|---|---|---|---|---|---|\n",
       "| mpg | 1 | 32 |  20.09 |  6.027 |  19.20 |  19.70 |  5.411 | 10.40 |  33.90 |  23.50 | 0.611 | -0.3728 |  1.065 |\n",
       "| hp | 2 | 32 | 146.69 | 68.563 | 123.00 | 141.19 | 77.095 | 52.00 | 335.00 | 283.00 | 0.726 | -0.1356 | 12.120 |\n",
       "| wt | 3 | 32 |   3.22 |  0.978 |   3.33 |   3.15 |  0.767 |  1.51 |   5.42 |   3.91 | 0.423 | -0.0227 |  0.173 |\n",
       "\n"
      ],
      "text/plain": [
       "    vars n  mean   sd     median trimmed mad    min   max    range  skew \n",
       "mpg 1    32  20.09  6.027  19.20  19.70   5.411 10.40  33.90  23.50 0.611\n",
       "hp  2    32 146.69 68.563 123.00 141.19  77.095 52.00 335.00 283.00 0.726\n",
       "wt  3    32   3.22  0.978   3.33   3.15   0.767  1.51   5.42   3.91 0.423\n",
       "    kurtosis se    \n",
       "mpg -0.3728   1.065\n",
       "hp  -0.1356  12.120\n",
       "wt  -0.0227   0.173"
      ]
     },
     "metadata": {},
     "output_type": "display_data"
    }
   ],
   "source": [
    "# psych 패키지의 describe () 함수를 통한 기술 통계\n",
    "library(psych) #load the psych package\n",
    "describe(mtcars[myvars])\n",
    "\n",
    "# Hmisc 패키지의 describe () 함수를 통한 설명 통계\n",
    "# library(Hmisc) #load the Hmisc package\n",
    "# describe(mtcars[myvars])\n",
    "\n",
    "# pastecs 패키지의 stat.desc () 함수를 통한 기술 통계\n",
    "# library(pastecs) #load the pastecs package\n",
    "# stat.desc(mtcars[myvars])"
   ]
  },
  {
   "cell_type": "markdown",
   "metadata": {},
   "source": [
    "### 그룹 별 기술 통계"
   ]
  },
  {
   "cell_type": "code",
   "execution_count": 8,
   "metadata": {},
   "outputs": [
    {
     "data": {
      "text/html": [
       "<table>\n",
       "<caption>A data.frame: 2 × 4</caption>\n",
       "<thead>\n",
       "\t<tr><th scope=col>am</th><th scope=col>mpg</th><th scope=col>hp</th><th scope=col>wt</th></tr>\n",
       "\t<tr><th scope=col>&lt;dbl&gt;</th><th scope=col>&lt;dbl&gt;</th><th scope=col>&lt;dbl&gt;</th><th scope=col>&lt;dbl&gt;</th></tr>\n",
       "</thead>\n",
       "<tbody>\n",
       "\t<tr><td>0</td><td>17.1</td><td>160</td><td>3.77</td></tr>\n",
       "\t<tr><td>1</td><td>24.4</td><td>127</td><td>2.41</td></tr>\n",
       "</tbody>\n",
       "</table>\n"
      ],
      "text/latex": [
       "A data.frame: 2 × 4\n",
       "\\begin{tabular}{llll}\n",
       " am & mpg & hp & wt\\\\\n",
       " <dbl> & <dbl> & <dbl> & <dbl>\\\\\n",
       "\\hline\n",
       "\t 0 & 17.1 & 160 & 3.77\\\\\n",
       "\t 1 & 24.4 & 127 & 2.41\\\\\n",
       "\\end{tabular}\n"
      ],
      "text/markdown": [
       "\n",
       "A data.frame: 2 × 4\n",
       "\n",
       "| am &lt;dbl&gt; | mpg &lt;dbl&gt; | hp &lt;dbl&gt; | wt &lt;dbl&gt; |\n",
       "|---|---|---|---|\n",
       "| 0 | 17.1 | 160 | 3.77 |\n",
       "| 1 | 24.4 | 127 | 2.41 |\n",
       "\n"
      ],
      "text/plain": [
       "  am mpg  hp  wt  \n",
       "1 0  17.1 160 3.77\n",
       "2 1  24.4 127 2.41"
      ]
     },
     "metadata": {},
     "output_type": "display_data"
    }
   ],
   "source": [
    "# aggregate()를 사용하는 그룹 별 기술 통계\n",
    "# example 1: mean\n",
    "aggregate(mtcars[myvars],by=list(am=mtcars$am),mean)"
   ]
  },
  {
   "cell_type": "code",
   "execution_count": 9,
   "metadata": {},
   "outputs": [
    {
     "data": {
      "text/html": [
       "<table>\n",
       "<caption>A data.frame: 2 × 4</caption>\n",
       "<thead>\n",
       "\t<tr><th scope=col>am</th><th scope=col>mpg</th><th scope=col>hp</th><th scope=col>wt</th></tr>\n",
       "\t<tr><th scope=col>&lt;dbl&gt;</th><th scope=col>&lt;dbl&gt;</th><th scope=col>&lt;dbl&gt;</th><th scope=col>&lt;dbl&gt;</th></tr>\n",
       "</thead>\n",
       "<tbody>\n",
       "\t<tr><td>0</td><td>3.83</td><td>53.9</td><td>0.777</td></tr>\n",
       "\t<tr><td>1</td><td>6.17</td><td>84.1</td><td>0.617</td></tr>\n",
       "</tbody>\n",
       "</table>\n"
      ],
      "text/latex": [
       "A data.frame: 2 × 4\n",
       "\\begin{tabular}{llll}\n",
       " am & mpg & hp & wt\\\\\n",
       " <dbl> & <dbl> & <dbl> & <dbl>\\\\\n",
       "\\hline\n",
       "\t 0 & 3.83 & 53.9 & 0.777\\\\\n",
       "\t 1 & 6.17 & 84.1 & 0.617\\\\\n",
       "\\end{tabular}\n"
      ],
      "text/markdown": [
       "\n",
       "A data.frame: 2 × 4\n",
       "\n",
       "| am &lt;dbl&gt; | mpg &lt;dbl&gt; | hp &lt;dbl&gt; | wt &lt;dbl&gt; |\n",
       "|---|---|---|---|\n",
       "| 0 | 3.83 | 53.9 | 0.777 |\n",
       "| 1 | 6.17 | 84.1 | 0.617 |\n",
       "\n"
      ],
      "text/plain": [
       "  am mpg  hp   wt   \n",
       "1 0  3.83 53.9 0.777\n",
       "2 1  6.17 84.1 0.617"
      ]
     },
     "metadata": {},
     "output_type": "display_data"
    }
   ],
   "source": [
    "# example 2: standard deviation\n",
    "aggregate(mtcars[myvars],by=list(am=mtcars$am),sd)"
   ]
  },
  {
   "cell_type": "code",
   "execution_count": 10,
   "metadata": {},
   "outputs": [
    {
     "data": {
      "text/plain": [
       "mtcars$am: 0\n",
       "           mpg       hp     wt\n",
       "n       19.000  19.0000 19.000\n",
       "mean    17.147 160.2632  3.769\n",
       "stdev    3.834  53.9082  0.777\n",
       "skew     0.014  -0.0142  0.976\n",
       "kurosis -0.803  -1.2097  0.142\n",
       "------------------------------------------------------------ \n",
       "mtcars$am: 1\n",
       "            mpg      hp     wt\n",
       "n       13.0000  13.000 13.000\n",
       "mean    24.3923 126.846  2.411\n",
       "stdev    6.1665  84.062  0.617\n",
       "skew     0.0526   1.360  0.210\n",
       "kurosis -1.4554   0.563 -1.174"
      ]
     },
     "metadata": {},
     "output_type": "display_data"
    }
   ],
   "source": [
    "# by()를 사용하는 그룹 별 기술 통계\n",
    "dstats=function(x){\n",
    "    sapply(x,mystats)\n",
    "}\n",
    "by(mtcars[myvars],mtcars$am,dstats)"
   ]
  },
  {
   "cell_type": "code",
   "execution_count": 11,
   "metadata": {},
   "outputs": [],
   "source": [
    "#doBy 패키지의 summaryBy () 함수를 사용하여 그룹 별 요약 통계\n",
    "# install.packages(\"doBy\") #install doBy\n",
    "# library(doBy) #load the pastecs package\n",
    "# summaryBy(mpg + hp + wt ~ am, data = mtcars, FUN = mystats)\n",
    "\n",
    "#psych 패키지의 describe.by () 함수를 사용하여 그룹 별 요약 통계\n",
    "# library(psych) #load the psych package\n",
    "# describeBy(mtcars[myvars], list(am = mtcars$am))"
   ]
  },
  {
   "cell_type": "markdown",
   "metadata": {},
   "source": [
    "## 빈도 및 테이블(Frequency and contingency tables)"
   ]
  },
  {
   "cell_type": "code",
   "execution_count": 12,
   "metadata": {},
   "outputs": [
    {
     "name": "stderr",
     "output_type": "stream",
     "text": [
      "Loading required package: grid\n",
      "\n"
     ]
    },
    {
     "data": {
      "text/html": [
       "<table>\n",
       "<caption>A data.frame: 6 × 5</caption>\n",
       "<thead>\n",
       "\t<tr><th></th><th scope=col>ID</th><th scope=col>Treatment</th><th scope=col>Sex</th><th scope=col>Age</th><th scope=col>Improved</th></tr>\n",
       "\t<tr><th></th><th scope=col>&lt;int&gt;</th><th scope=col>&lt;fct&gt;</th><th scope=col>&lt;fct&gt;</th><th scope=col>&lt;int&gt;</th><th scope=col>&lt;ord&gt;</th></tr>\n",
       "</thead>\n",
       "<tbody>\n",
       "\t<tr><th scope=row>1</th><td>57</td><td>Treated</td><td>Male</td><td>27</td><td>Some  </td></tr>\n",
       "\t<tr><th scope=row>2</th><td>46</td><td>Treated</td><td>Male</td><td>29</td><td>None  </td></tr>\n",
       "\t<tr><th scope=row>3</th><td>77</td><td>Treated</td><td>Male</td><td>30</td><td>None  </td></tr>\n",
       "\t<tr><th scope=row>4</th><td>17</td><td>Treated</td><td>Male</td><td>32</td><td>Marked</td></tr>\n",
       "\t<tr><th scope=row>5</th><td>36</td><td>Treated</td><td>Male</td><td>46</td><td>Marked</td></tr>\n",
       "\t<tr><th scope=row>6</th><td>23</td><td>Treated</td><td>Male</td><td>58</td><td>Marked</td></tr>\n",
       "</tbody>\n",
       "</table>\n"
      ],
      "text/latex": [
       "A data.frame: 6 × 5\n",
       "\\begin{tabular}{r|lllll}\n",
       "  & ID & Treatment & Sex & Age & Improved\\\\\n",
       "  & <int> & <fct> & <fct> & <int> & <ord>\\\\\n",
       "\\hline\n",
       "\t1 & 57 & Treated & Male & 27 & Some  \\\\\n",
       "\t2 & 46 & Treated & Male & 29 & None  \\\\\n",
       "\t3 & 77 & Treated & Male & 30 & None  \\\\\n",
       "\t4 & 17 & Treated & Male & 32 & Marked\\\\\n",
       "\t5 & 36 & Treated & Male & 46 & Marked\\\\\n",
       "\t6 & 23 & Treated & Male & 58 & Marked\\\\\n",
       "\\end{tabular}\n"
      ],
      "text/markdown": [
       "\n",
       "A data.frame: 6 × 5\n",
       "\n",
       "| <!--/--> | ID &lt;int&gt; | Treatment &lt;fct&gt; | Sex &lt;fct&gt; | Age &lt;int&gt; | Improved &lt;ord&gt; |\n",
       "|---|---|---|---|---|---|\n",
       "| 1 | 57 | Treated | Male | 27 | Some   |\n",
       "| 2 | 46 | Treated | Male | 29 | None   |\n",
       "| 3 | 77 | Treated | Male | 30 | None   |\n",
       "| 4 | 17 | Treated | Male | 32 | Marked |\n",
       "| 5 | 36 | Treated | Male | 46 | Marked |\n",
       "| 6 | 23 | Treated | Male | 58 | Marked |\n",
       "\n"
      ],
      "text/plain": [
       "  ID Treatment Sex  Age Improved\n",
       "1 57 Treated   Male 27  Some    \n",
       "2 46 Treated   Male 29  None    \n",
       "3 77 Treated   Male 30  None    \n",
       "4 17 Treated   Male 32  Marked  \n",
       "5 36 Treated   Male 46  Marked  \n",
       "6 23 Treated   Male 58  Marked  "
      ]
     },
     "metadata": {},
     "output_type": "display_data"
    }
   ],
   "source": [
    "#이 섹션에서는 독립성 테스트, 연관성 측정 및 결과를 그래픽으로 표시하는 방법과 함께 범주 형 변수의 빈도 및 분할 표를 살펴 보겠습니다.\n",
    "#vcd 패키지의 관절염 데이터 세트를 사용합니다.\n",
    "library(vcd) #load the vcd package\n",
    "head(Arthritis) #display the first 6 rows"
   ]
  },
  {
   "cell_type": "markdown",
   "metadata": {},
   "source": [
    "### 빈도 테이블"
   ]
  },
  {
   "cell_type": "markdown",
   "metadata": {},
   "source": [
    "#### One way tables"
   ]
  },
  {
   "cell_type": "code",
   "execution_count": 13,
   "metadata": {},
   "outputs": [
    {
     "data": {
      "text/plain": [
       "Improved\n",
       "  None   Some Marked \n",
       "    42     14     28 "
      ]
     },
     "metadata": {},
     "output_type": "display_data"
    }
   ],
   "source": [
    "mytable=with(Arthritis,table(Improved)) ## count\n",
    "mytable"
   ]
  },
  {
   "cell_type": "code",
   "execution_count": 14,
   "metadata": {},
   "outputs": [
    {
     "data": {
      "text/plain": [
       "Improved\n",
       "  None   Some Marked \n",
       " 0.500  0.167  0.333 "
      ]
     },
     "metadata": {},
     "output_type": "display_data"
    }
   ],
   "source": [
    "# prop.table ()을 사용하여 주파수를 비율로 변환 :\n",
    "# prop.table(mytable) * 100\n",
    "prop.table(mytable)"
   ]
  },
  {
   "cell_type": "markdown",
   "metadata": {},
   "source": [
    "#### Two way tables"
   ]
  },
  {
   "cell_type": "code",
   "execution_count": 15,
   "metadata": {},
   "outputs": [
    {
     "data": {
      "text/plain": [
       "         Improved\n",
       "Treatment None Some Marked\n",
       "  Placebo   29    7      7\n",
       "  Treated   13    7     21"
      ]
     },
     "metadata": {},
     "output_type": "display_data"
    }
   ],
   "source": [
    "mytable=xtabs(~Treatment+Improved,data=Arthritis)\n",
    "mytable"
   ]
  },
  {
   "cell_type": "code",
   "execution_count": 16,
   "metadata": {},
   "outputs": [
    {
     "data": {
      "text/plain": [
       "Treatment\n",
       "Placebo Treated \n",
       "     43      41 "
      ]
     },
     "metadata": {},
     "output_type": "display_data"
    },
    {
     "data": {
      "text/plain": [
       "         Improved\n",
       "Treatment  None  Some Marked\n",
       "  Placebo 0.674 0.163  0.163\n",
       "  Treated 0.317 0.171  0.512"
      ]
     },
     "metadata": {},
     "output_type": "display_data"
    }
   ],
   "source": [
    "#margin.table () 및 prop.table () 함수를 사용하여 한계 빈도와 비율을 생성 할 수 있습니다.\n",
    "#행 합계 및 행 비율의 경우 다음이 있습니다.\n",
    "margin.table(mytable,1)\n",
    "prop.table(mytable,1)"
   ]
  },
  {
   "cell_type": "code",
   "execution_count": 17,
   "metadata": {},
   "outputs": [
    {
     "data": {
      "text/plain": [
       "Improved\n",
       "  None   Some Marked \n",
       "    42     14     28 "
      ]
     },
     "metadata": {},
     "output_type": "display_data"
    },
    {
     "data": {
      "text/plain": [
       "         Improved\n",
       "Treatment None Some Marked\n",
       "  Placebo 0.69 0.50   0.25\n",
       "  Treated 0.31 0.50   0.75"
      ]
     },
     "metadata": {},
     "output_type": "display_data"
    }
   ],
   "source": [
    "#열 합계 및 행 비율의 경우 다음이 있습니다.\n",
    "margin.table(mytable, 2)\n",
    "prop.table(mytable, 2)"
   ]
  },
  {
   "cell_type": "code",
   "execution_count": 18,
   "metadata": {},
   "outputs": [
    {
     "data": {
      "text/html": [
       "<table>\n",
       "<caption>A table: 3 × 4 of type dbl</caption>\n",
       "<thead>\n",
       "\t<tr><th></th><th scope=col>None</th><th scope=col>Some</th><th scope=col>Marked</th><th scope=col>Sum</th></tr>\n",
       "</thead>\n",
       "<tbody>\n",
       "\t<tr><th scope=row>Placebo</th><td>29</td><td> 7</td><td> 7</td><td>43</td></tr>\n",
       "\t<tr><th scope=row>Treated</th><td>13</td><td> 7</td><td>21</td><td>41</td></tr>\n",
       "\t<tr><th scope=row>Sum</th><td>42</td><td>14</td><td>28</td><td>84</td></tr>\n",
       "</tbody>\n",
       "</table>\n"
      ],
      "text/latex": [
       "A table: 3 × 4 of type dbl\n",
       "\\begin{tabular}{r|llll}\n",
       "  & None & Some & Marked & Sum\\\\\n",
       "\\hline\n",
       "\tPlacebo & 29 &  7 &  7 & 43\\\\\n",
       "\tTreated & 13 &  7 & 21 & 41\\\\\n",
       "\tSum & 42 & 14 & 28 & 84\\\\\n",
       "\\end{tabular}\n"
      ],
      "text/markdown": [
       "\n",
       "A table: 3 × 4 of type dbl\n",
       "\n",
       "| <!--/--> | None | Some | Marked | Sum |\n",
       "|---|---|---|---|---|\n",
       "| Placebo | 29 |  7 |  7 | 43 |\n",
       "| Treated | 13 |  7 | 21 | 41 |\n",
       "| Sum | 42 | 14 | 28 | 84 |\n",
       "\n"
      ],
      "text/plain": [
       "         Improved\n",
       "Treatment None Some Marked Sum\n",
       "  Placebo 29    7    7     43 \n",
       "  Treated 13    7   21     41 \n",
       "  Sum     42   14   28     84 "
      ]
     },
     "metadata": {},
     "output_type": "display_data"
    },
    {
     "data": {
      "text/html": [
       "<table>\n",
       "<caption>A table: 3 × 4 of type dbl</caption>\n",
       "<thead>\n",
       "\t<tr><th></th><th scope=col>None</th><th scope=col>Some</th><th scope=col>Marked</th><th scope=col>Sum</th></tr>\n",
       "</thead>\n",
       "<tbody>\n",
       "\t<tr><th scope=row>Placebo</th><td>0.345</td><td>0.0833</td><td>0.0833</td><td>0.512</td></tr>\n",
       "\t<tr><th scope=row>Treated</th><td>0.155</td><td>0.0833</td><td>0.2500</td><td>0.488</td></tr>\n",
       "\t<tr><th scope=row>Sum</th><td>0.500</td><td>0.1667</td><td>0.3333</td><td>1.000</td></tr>\n",
       "</tbody>\n",
       "</table>\n"
      ],
      "text/latex": [
       "A table: 3 × 4 of type dbl\n",
       "\\begin{tabular}{r|llll}\n",
       "  & None & Some & Marked & Sum\\\\\n",
       "\\hline\n",
       "\tPlacebo & 0.345 & 0.0833 & 0.0833 & 0.512\\\\\n",
       "\tTreated & 0.155 & 0.0833 & 0.2500 & 0.488\\\\\n",
       "\tSum & 0.500 & 0.1667 & 0.3333 & 1.000\\\\\n",
       "\\end{tabular}\n"
      ],
      "text/markdown": [
       "\n",
       "A table: 3 × 4 of type dbl\n",
       "\n",
       "| <!--/--> | None | Some | Marked | Sum |\n",
       "|---|---|---|---|---|\n",
       "| Placebo | 0.345 | 0.0833 | 0.0833 | 0.512 |\n",
       "| Treated | 0.155 | 0.0833 | 0.2500 | 0.488 |\n",
       "| Sum | 0.500 | 0.1667 | 0.3333 | 1.000 |\n",
       "\n"
      ],
      "text/plain": [
       "         Improved\n",
       "Treatment None  Some   Marked Sum  \n",
       "  Placebo 0.345 0.0833 0.0833 0.512\n",
       "  Treated 0.155 0.0833 0.2500 0.488\n",
       "  Sum     0.500 0.1667 0.3333 1.000"
      ]
     },
     "metadata": {},
     "output_type": "display_data"
    }
   ],
   "source": [
    "#addmargins ()를 사용하여 이 테이블에 한계 합계를 추가 할 수 있습니다\n",
    "addmargins(mytable)\n",
    "addmargins(prop.table(mytable))"
   ]
  },
  {
   "cell_type": "code",
   "execution_count": 19,
   "metadata": {},
   "outputs": [
    {
     "data": {
      "text/html": [
       "<table>\n",
       "<caption>A table: 2 × 4 of type dbl</caption>\n",
       "<thead>\n",
       "\t<tr><th></th><th scope=col>None</th><th scope=col>Some</th><th scope=col>Marked</th><th scope=col>Sum</th></tr>\n",
       "</thead>\n",
       "<tbody>\n",
       "\t<tr><th scope=row>Placebo</th><td>0.674</td><td>0.163</td><td>0.163</td><td>1</td></tr>\n",
       "\t<tr><th scope=row>Treated</th><td>0.317</td><td>0.171</td><td>0.512</td><td>1</td></tr>\n",
       "</tbody>\n",
       "</table>\n"
      ],
      "text/latex": [
       "A table: 2 × 4 of type dbl\n",
       "\\begin{tabular}{r|llll}\n",
       "  & None & Some & Marked & Sum\\\\\n",
       "\\hline\n",
       "\tPlacebo & 0.674 & 0.163 & 0.163 & 1\\\\\n",
       "\tTreated & 0.317 & 0.171 & 0.512 & 1\\\\\n",
       "\\end{tabular}\n"
      ],
      "text/markdown": [
       "\n",
       "A table: 2 × 4 of type dbl\n",
       "\n",
       "| <!--/--> | None | Some | Marked | Sum |\n",
       "|---|---|---|---|---|\n",
       "| Placebo | 0.674 | 0.163 | 0.163 | 1 |\n",
       "| Treated | 0.317 | 0.171 | 0.512 | 1 |\n",
       "\n"
      ],
      "text/plain": [
       "         Improved\n",
       "Treatment None  Some  Marked Sum\n",
       "  Placebo 0.674 0.163 0.163  1  \n",
       "  Treated 0.317 0.171 0.512  1  "
      ]
     },
     "metadata": {},
     "output_type": "display_data"
    }
   ],
   "source": [
    "#합계 열만 추가하려는 경우 :\n",
    "addmargins(prop.table(mytable,1),2)"
   ]
  },
  {
   "cell_type": "code",
   "execution_count": 20,
   "metadata": {},
   "outputs": [
    {
     "data": {
      "text/html": [
       "<table>\n",
       "<caption>A table: 3 × 3 of type dbl</caption>\n",
       "<thead>\n",
       "\t<tr><th></th><th scope=col>None</th><th scope=col>Some</th><th scope=col>Marked</th></tr>\n",
       "</thead>\n",
       "<tbody>\n",
       "\t<tr><th scope=row>Placebo</th><td>0.69</td><td>0.5</td><td>0.25</td></tr>\n",
       "\t<tr><th scope=row>Treated</th><td>0.31</td><td>0.5</td><td>0.75</td></tr>\n",
       "\t<tr><th scope=row>Sum</th><td>1.00</td><td>1.0</td><td>1.00</td></tr>\n",
       "</tbody>\n",
       "</table>\n"
      ],
      "text/latex": [
       "A table: 3 × 3 of type dbl\n",
       "\\begin{tabular}{r|lll}\n",
       "  & None & Some & Marked\\\\\n",
       "\\hline\n",
       "\tPlacebo & 0.69 & 0.5 & 0.25\\\\\n",
       "\tTreated & 0.31 & 0.5 & 0.75\\\\\n",
       "\tSum & 1.00 & 1.0 & 1.00\\\\\n",
       "\\end{tabular}\n"
      ],
      "text/markdown": [
       "\n",
       "A table: 3 × 3 of type dbl\n",
       "\n",
       "| <!--/--> | None | Some | Marked |\n",
       "|---|---|---|---|\n",
       "| Placebo | 0.69 | 0.5 | 0.25 |\n",
       "| Treated | 0.31 | 0.5 | 0.75 |\n",
       "| Sum | 1.00 | 1.0 | 1.00 |\n",
       "\n"
      ],
      "text/plain": [
       "         Improved\n",
       "Treatment None Some Marked\n",
       "  Placebo 0.69 0.5  0.25  \n",
       "  Treated 0.31 0.5  0.75  \n",
       "  Sum     1.00 1.0  1.00  "
      ]
     },
     "metadata": {},
     "output_type": "display_data"
    }
   ],
   "source": [
    "#합계 행만 추가하려는 경우 :\n",
    "addmargins(prop.table(mytable, 2), 1)"
   ]
  },
  {
   "cell_type": "code",
   "execution_count": 21,
   "metadata": {},
   "outputs": [],
   "source": [
    "#양방향 테이블을 만드는 세 번째 방법은 \"gmodels\"패키지의 CrossTable () 함수입니다.\n",
    "# library(gmodels)\n",
    "# CrossTable(Arthritis$Treatment,Arthritis$Improved)"
   ]
  },
  {
   "cell_type": "markdown",
   "metadata": {},
   "source": [
    "#### 다차원 테이블"
   ]
  },
  {
   "cell_type": "code",
   "execution_count": 22,
   "metadata": {},
   "outputs": [
    {
     "data": {
      "text/plain": [
       ", , Improved = None\n",
       "\n",
       "         Sex\n",
       "Treatment Female Male\n",
       "  Placebo     19   10\n",
       "  Treated      6    7\n",
       "\n",
       ", , Improved = Some\n",
       "\n",
       "         Sex\n",
       "Treatment Female Male\n",
       "  Placebo      7    0\n",
       "  Treated      5    2\n",
       "\n",
       ", , Improved = Marked\n",
       "\n",
       "         Sex\n",
       "Treatment Female Male\n",
       "  Placebo      6    1\n",
       "  Treated     16    5\n"
      ]
     },
     "metadata": {},
     "output_type": "display_data"
    }
   ],
   "source": [
    "#두 개 이상의 범주 형 변수가있는 경우 다차원 테이블을 다룹니다.\n",
    "#다음은 3 원 분할 표의 예입니다.\n",
    "mytable=xtabs(~Treatment+Sex +Improved,data=Arthritis) #cell frequencies\n",
    "mytable"
   ]
  },
  {
   "cell_type": "code",
   "execution_count": 23,
   "metadata": {},
   "outputs": [
    {
     "data": {
      "text/plain": [
       "                 Improved None Some Marked\n",
       "Treatment Sex                             \n",
       "Placebo   Female            19    7      6\n",
       "          Male              10    0      1\n",
       "Treated   Female             6    5     16\n",
       "          Male               7    2      5"
      ]
     },
     "metadata": {},
     "output_type": "display_data"
    }
   ],
   "source": [
    "ftable(mytable) #콤팩트하고 매력적인 방식으로 다차원 테이블을 제공합니다."
   ]
  },
  {
   "cell_type": "code",
   "execution_count": 24,
   "metadata": {},
   "outputs": [
    {
     "data": {
      "text/plain": [
       "Treatment\n",
       "Placebo Treated \n",
       "     43      41 "
      ]
     },
     "metadata": {},
     "output_type": "display_data"
    }
   ],
   "source": [
    "margin.table(mytable, 1) ##행별 한계 빈도 (Treatment )"
   ]
  },
  {
   "cell_type": "code",
   "execution_count": 25,
   "metadata": {},
   "outputs": [
    {
     "data": {
      "text/plain": [
       "Sex\n",
       "Female   Male \n",
       "    59     25 "
      ]
     },
     "metadata": {},
     "output_type": "display_data"
    }
   ],
   "source": [
    "margin.table(mytable, 2) #행별 한계 빈도 (gender )"
   ]
  },
  {
   "cell_type": "code",
   "execution_count": 26,
   "metadata": {},
   "outputs": [
    {
     "data": {
      "text/plain": [
       "Improved\n",
       "  None   Some Marked \n",
       "    42     14     28 "
      ]
     },
     "metadata": {},
     "output_type": "display_data"
    }
   ],
   "source": [
    "margin.table(mytable, 3)#열별 한계 빈도 (Improved)"
   ]
  },
  {
   "cell_type": "code",
   "execution_count": 27,
   "metadata": {},
   "outputs": [
    {
     "data": {
      "text/plain": [
       "         Improved\n",
       "Treatment None Some Marked\n",
       "  Placebo   29    7      7\n",
       "  Treated   13    7     21"
      ]
     },
     "metadata": {},
     "output_type": "display_data"
    }
   ],
   "source": [
    "margin.table(mytable, c(1, 3)) # 치료 X 한계 빈도 "
   ]
  },
  {
   "cell_type": "code",
   "execution_count": 28,
   "metadata": {},
   "outputs": [
    {
     "data": {
      "text/plain": [
       "                 Improved   None   Some Marked\n",
       "Treatment Sex                                 \n",
       "Placebo   Female          0.5938 0.2188 0.1875\n",
       "          Male            0.9091 0.0000 0.0909\n",
       "Treated   Female          0.2222 0.1852 0.5926\n",
       "          Male            0.5000 0.1429 0.3571"
      ]
     },
     "metadata": {},
     "output_type": "display_data"
    }
   ],
   "source": [
    "ftable(prop.table(mytable, c(1, 2))) # 치료 X 성별을 위한 개선 된 비율"
   ]
  },
  {
   "cell_type": "code",
   "execution_count": 29,
   "metadata": {},
   "outputs": [
    {
     "data": {
      "text/plain": [
       "                 Improved   None   Some Marked    Sum\n",
       "Treatment Sex                                        \n",
       "Placebo   Female          0.5938 0.2188 0.1875 1.0000\n",
       "          Male            0.9091 0.0000 0.0909 1.0000\n",
       "Treated   Female          0.2222 0.1852 0.5926 1.0000\n",
       "          Male            0.5000 0.1429 0.3571 1.0000"
      ]
     },
     "metadata": {},
     "output_type": "display_data"
    }
   ],
   "source": [
    "ftable(addmargins(prop.table(mytable, c(1, 2)), 3)) # 행 합계로 치료 X 성별에 대한 비율 개선"
   ]
  },
  {
   "cell_type": "code",
   "execution_count": 30,
   "metadata": {},
   "outputs": [
    {
     "data": {
      "text/plain": [
       "                 Improved   None   Some Marked    Sum\n",
       "Treatment Sex                                        \n",
       "Placebo   Female           59.38  21.88  18.75 100.00\n",
       "          Male             90.91   0.00   9.09 100.00\n",
       "Treated   Female           22.22  18.52  59.26 100.00\n",
       "          Male             50.00  14.29  35.71 100.00"
      ]
     },
     "metadata": {},
     "output_type": "display_data"
    }
   ],
   "source": [
    "ftable(addmargins(prop.table(mytable, c(1, 2)), 3)) * 100 # 행 합계로 치료 X 성별에 대한 백분율 개선"
   ]
  },
  {
   "cell_type": "markdown",
   "metadata": {},
   "source": [
    "### 독립 검정"
   ]
  },
  {
   "cell_type": "markdown",
   "metadata": {},
   "source": [
    "#### Chi-Square test of independence"
   ]
  },
  {
   "cell_type": "code",
   "execution_count": 31,
   "metadata": {},
   "outputs": [
    {
     "data": {
      "text/plain": [
       "\n",
       "\tPearson's Chi-squared test\n",
       "\n",
       "data:  mytable\n",
       "X-squared = 13, df = 2, p-value = 0.001\n"
      ]
     },
     "metadata": {},
     "output_type": "display_data"
    }
   ],
   "source": [
    "#chisq.test () 함수를 양방향 테이블에 적용하여 행 및 열 변수의 독립성에 대한 카이 제곱 테스트를 생성 할 수 있습니다. 예:\n",
    "# library(vcd) \n",
    "mytable=xtabs(~ Treatment + Improved, data = Arthritis) #create a two-way table\n",
    "chisq.test(mytable) #run the chi-square test"
   ]
  },
  {
   "cell_type": "code",
   "execution_count": 32,
   "metadata": {},
   "outputs": [],
   "source": [
    "# 결과를 보겠습니다.\n",
    "# 가설부터 시작하겠습니다 : 치료 유형과 결과는 독립적입니다.\n",
    "# p- 값은 다음의 독립성을 가정하여 샘플링 된 결과를 얻을 확률입니다.\n",
    "    # 모집단의 행 및 열 변수.\n",
    "# p- 값 <0.01이므로 처리 유형이 결과와 독립적이라는 가설을 기각합니다!"
   ]
  },
  {
   "cell_type": "code",
   "execution_count": 33,
   "metadata": {},
   "outputs": [
    {
     "name": "stderr",
     "output_type": "stream",
     "text": [
      "Warning message in chisq.test(mytable):\n",
      "“Chi-squared approximation may be incorrect”\n"
     ]
    },
    {
     "data": {
      "text/plain": [
       "\n",
       "\tPearson's Chi-squared test\n",
       "\n",
       "data:  mytable\n",
       "X-squared = 5, df = 2, p-value = 0.09\n"
      ]
     },
     "metadata": {},
     "output_type": "display_data"
    }
   ],
   "source": [
    "#another example:\n",
    "mytable=xtabs(~ Improved + Sex, data = Arthritis) #create a two-way table\n",
    "chisq.test(mytable) #run the chi-square test"
   ]
  },
  {
   "cell_type": "code",
   "execution_count": 34,
   "metadata": {},
   "outputs": [],
   "source": [
    "# 결과를 보겠습니다.\n",
    "# 가설로 시작하자 : 결과와 성별은 독립적이다\n",
    "# p- 값은 다음의 독립성을 가정하여 샘플링 된 결과를 얻을 확률입니다.\n",
    "     # 모집단의 행 및 열 변수.\n",
    "# p- 값> 0.05이므로 결과가 성별과 무관하다는 가설을 확인합니다!"
   ]
  },
  {
   "cell_type": "code",
   "execution_count": 35,
   "metadata": {},
   "outputs": [],
   "source": [
    "#결론:\n",
    "# 카이 제곱 독립성 테스트 :\n",
    "# 가설은 두 변수가 독립적이라는 것입니다.\n",
    "# p- 값이 0.01 미만이면 가설을 기각합니다.\n",
    "# p- 값> 0.05이면 가설을 확인합니다."
   ]
  },
  {
   "cell_type": "markdown",
   "metadata": {},
   "source": [
    "#### Fisher's exact test"
   ]
  },
  {
   "cell_type": "code",
   "execution_count": 36,
   "metadata": {},
   "outputs": [
    {
     "data": {
      "text/plain": [
       "\n",
       "\tFisher's Exact Test for Count Data\n",
       "\n",
       "data:  mytable\n",
       "p-value = 0.001\n",
       "alternative hypothesis: two.sided\n"
      ]
     },
     "metadata": {},
     "output_type": "display_data"
    }
   ],
   "source": [
    "## chi와 fisher의 차이점은 chi는 근사값으로 추정하는것익, fisher는 정확하게 추정한다. \n",
    "## cell의 20%가 <5 이면 fisher로 정확하게 추정해야한다.\n",
    "\n",
    "#Fisher의 정확한 테스트는 행과 열의 독립성에 대한 귀무 가설을 평가합니다.\n",
    "# 고정 한계가있는 분할 테이블에서. 형식은 fisher.test (mytable)입니다. 여기서\n",
    "#mytable은 양방향 테이블입니다. 많은 통계 패키지와 달리 fisher.test ()\n",
    "#function은 두 개 이상의 행과 열이있는 양방향 테이블에 적용될 수 있습니다.\n",
    "# 2X2 테이블입니다. 다음은 Fisher의 정확한 테스트의 예입니다.\n",
    "# library(vcd) #load the vcd package for the Arthritis dataset\n",
    "mytable=xtabs(~ Treatment + Improved, data = Arthritis) #create the 2-way table\n",
    "fisher.test(mytable) #run the test"
   ]
  },
  {
   "cell_type": "code",
   "execution_count": 37,
   "metadata": {},
   "outputs": [],
   "source": [
    "# p- 값이 0.01 미만이기 때문에 처리와 개선이 서로 독립적이라는 귀무 가설을 기각합니다."
   ]
  },
  {
   "cell_type": "markdown",
   "metadata": {},
   "source": [
    "#### Cochran-Mantel-Haenszel test"
   ]
  },
  {
   "cell_type": "code",
   "execution_count": 38,
   "metadata": {},
   "outputs": [
    {
     "data": {
      "text/plain": [
       "\n",
       "\tCochran-Mantel-Haenszel test\n",
       "\n",
       "data:  mytable\n",
       "Cochran-Mantel-Haenszel M^2 = 15, df = 2, p-value = 7e-04\n"
      ]
     },
     "metadata": {},
     "output_type": "display_data"
    }
   ],
   "source": [
    "#the mantelhaen.test ()는 귀무 가설에 대한 Cochran-Mantel-Haenszel 카이 제곱 테스트를 제공합니다.\n",
    "# 두 개의 명목 변수는 세 번째 변수의 각 계층에서 조건부로 독립적입니다.\n",
    "# 다음 코드는 치료 및 개선 변수가 독립적이라는 가설을 테스트합니다.\n",
    "# 성별 각 레벨 내. 이 테스트에서는 3 원 (치료 X 개량 X 성별) 상호 작용이 없다고 가정합니다.\n",
    "# library(vcd) #load the vcd package for the Arthritis dataset\n",
    "mytable=xtabs(~ Treatment + Improved + Sex, data = Arthritis) #create the 3-way table\n",
    "mantelhaen.test(mytable) #run the test"
   ]
  },
  {
   "cell_type": "code",
   "execution_count": 39,
   "metadata": {},
   "outputs": [],
   "source": [
    "#7e-04 = 7 * 10^-4 = 0.0007\n",
    "# p- 값이 0.01 미만이기 때문에 Sex에 대해 통제 할 때 치료와 개선이 서로 독립적이라는 귀무 가설을 기각합니다."
   ]
  },
  {
   "cell_type": "markdown",
   "metadata": {},
   "source": [
    "### Measures of association"
   ]
  },
  {
   "cell_type": "code",
   "execution_count": 40,
   "metadata": {},
   "outputs": [
    {
     "data": {
      "text/plain": [
       "                    X^2 df  P(> X^2)\n",
       "Likelihood Ratio 13.530  2 0.0011536\n",
       "Pearson          13.055  2 0.0014626\n",
       "\n",
       "Phi-Coefficient   : NA \n",
       "Contingency Coeff.: 0.367 \n",
       "Cramer's V        : 0.394 "
      ]
     },
     "metadata": {},
     "output_type": "display_data"
    }
   ],
   "source": [
    "# 카이-제곱 또는 피셔의 CMH 검정 검정을 사용하여 변수 독립성에 대한 귀무 가설을 기각하는 경우\n",
    "# 당신은 의존성 또는 연관성의 강도를 측정하려고합니다.\n",
    "# vcd 패키지의 assocstats () 함수는 양방향 테이블에 대한 파이 계수, 우발 계수 및 Cramer의 V를 계산합니다.\n",
    "# 일반적으로 등급이 낮을수록 연관성이 강함을 나타냅니다. 여기에 예가 있습니다.\n",
    "# library(vcd) #load the vcd package for the Arthritis dataset\n",
    "mytable = xtabs(~ Treatment + Improved, data = Arthritis) #create the 2-way table\n",
    "assocstats(mytable) #run the test"
   ]
  },
  {
   "cell_type": "markdown",
   "metadata": {},
   "source": [
    "## Correlations"
   ]
  },
  {
   "cell_type": "code",
   "execution_count": 41,
   "metadata": {},
   "outputs": [],
   "source": [
    "# 상관 계수는 양적 변수 간의 관계를 설명하는 데 사용됩니다.\n",
    "# 기호 +-는 관계의 방향을 나타냅니다 (긍정적 또는 부정적)\n",
    "# 크기는 관계의 강도를 나타냅니다 (관계가없는 경우 0에서 완벽하게 예측 가능한 관계의 경우 1까지)."
   ]
  },
  {
   "cell_type": "markdown",
   "metadata": {},
   "source": [
    "### Types of correlations"
   ]
  },
  {
   "cell_type": "markdown",
   "metadata": {},
   "source": [
    "#### Pearson, Spearman and Kendall correlations"
   ]
  },
  {
   "cell_type": "code",
   "execution_count": 42,
   "metadata": {},
   "outputs": [],
   "source": [
    "#Pearson product-moment 상관 관계는 두 양적 변수 간의 선형 관계 정도를 평가합니다.\n",
    "#Spearman의 순위-오더 상관 계수는 2 개의 순위 순 변수 간의 관계 정도를 평가합니다.\n",
    "#Kendall의 tau는 순위 상관 관계의 비모수 척도이기도합니다."
   ]
  },
  {
   "cell_type": "code",
   "execution_count": 43,
   "metadata": {},
   "outputs": [],
   "source": [
    "# cor () 함수는 3 개의 상관 계수를 모두 생성하는 반면 cov () 함수는 공분산을 생성합니다.\n",
    "# 간단한 형식은 다음과 같습니다 : cor (x, use =, method =);\n",
    "# 여기서 x = 행렬 또는 데이터 프레임; use = 누락 된 데이터 처리를 지정합니다 (기본값 = 모든 것). method = method (기본값 = \"pearson\")"
   ]
  },
  {
   "cell_type": "code",
   "execution_count": 44,
   "metadata": {},
   "outputs": [],
   "source": [
    "states = state.x77[, 1:6] # state.x77 데이터 세트의 하위 집합을 선택합니다. 1부터 6까지의 열을 선택하여 \"states\"객체에 저장합니다."
   ]
  },
  {
   "cell_type": "code",
   "execution_count": 45,
   "metadata": {},
   "outputs": [
    {
     "data": {
      "text/html": [
       "<table>\n",
       "<caption>A matrix: 6 × 6 of type dbl</caption>\n",
       "<thead>\n",
       "\t<tr><th></th><th scope=col>Population</th><th scope=col>Income</th><th scope=col>Illiteracy</th><th scope=col>Life Exp</th><th scope=col>Murder</th><th scope=col>HS Grad</th></tr>\n",
       "</thead>\n",
       "<tbody>\n",
       "\t<tr><th scope=row>Population</th><td> 1.0000</td><td> 0.208</td><td> 0.108</td><td>-0.0681</td><td> 0.344</td><td>-0.0985</td></tr>\n",
       "\t<tr><th scope=row>Income</th><td> 0.2082</td><td> 1.000</td><td>-0.437</td><td> 0.3403</td><td>-0.230</td><td> 0.6199</td></tr>\n",
       "\t<tr><th scope=row>Illiteracy</th><td> 0.1076</td><td>-0.437</td><td> 1.000</td><td>-0.5885</td><td> 0.703</td><td>-0.6572</td></tr>\n",
       "\t<tr><th scope=row>Life Exp</th><td>-0.0681</td><td> 0.340</td><td>-0.588</td><td> 1.0000</td><td>-0.781</td><td> 0.5822</td></tr>\n",
       "\t<tr><th scope=row>Murder</th><td> 0.3436</td><td>-0.230</td><td> 0.703</td><td>-0.7808</td><td> 1.000</td><td>-0.4880</td></tr>\n",
       "\t<tr><th scope=row>HS Grad</th><td>-0.0985</td><td> 0.620</td><td>-0.657</td><td> 0.5822</td><td>-0.488</td><td> 1.0000</td></tr>\n",
       "</tbody>\n",
       "</table>\n"
      ],
      "text/latex": [
       "A matrix: 6 × 6 of type dbl\n",
       "\\begin{tabular}{r|llllll}\n",
       "  & Population & Income & Illiteracy & Life Exp & Murder & HS Grad\\\\\n",
       "\\hline\n",
       "\tPopulation &  1.0000 &  0.208 &  0.108 & -0.0681 &  0.344 & -0.0985\\\\\n",
       "\tIncome &  0.2082 &  1.000 & -0.437 &  0.3403 & -0.230 &  0.6199\\\\\n",
       "\tIlliteracy &  0.1076 & -0.437 &  1.000 & -0.5885 &  0.703 & -0.6572\\\\\n",
       "\tLife Exp & -0.0681 &  0.340 & -0.588 &  1.0000 & -0.781 &  0.5822\\\\\n",
       "\tMurder &  0.3436 & -0.230 &  0.703 & -0.7808 &  1.000 & -0.4880\\\\\n",
       "\tHS Grad & -0.0985 &  0.620 & -0.657 &  0.5822 & -0.488 &  1.0000\\\\\n",
       "\\end{tabular}\n"
      ],
      "text/markdown": [
       "\n",
       "A matrix: 6 × 6 of type dbl\n",
       "\n",
       "| <!--/--> | Population | Income | Illiteracy | Life Exp | Murder | HS Grad |\n",
       "|---|---|---|---|---|---|---|\n",
       "| Population |  1.0000 |  0.208 |  0.108 | -0.0681 |  0.344 | -0.0985 |\n",
       "| Income |  0.2082 |  1.000 | -0.437 |  0.3403 | -0.230 |  0.6199 |\n",
       "| Illiteracy |  0.1076 | -0.437 |  1.000 | -0.5885 |  0.703 | -0.6572 |\n",
       "| Life Exp | -0.0681 |  0.340 | -0.588 |  1.0000 | -0.781 |  0.5822 |\n",
       "| Murder |  0.3436 | -0.230 |  0.703 | -0.7808 |  1.000 | -0.4880 |\n",
       "| HS Grad | -0.0985 |  0.620 | -0.657 |  0.5822 | -0.488 |  1.0000 |\n",
       "\n"
      ],
      "text/plain": [
       "           Population Income Illiteracy Life Exp Murder HS Grad\n",
       "Population  1.0000     0.208  0.108     -0.0681   0.344 -0.0985\n",
       "Income      0.2082     1.000 -0.437      0.3403  -0.230  0.6199\n",
       "Illiteracy  0.1076    -0.437  1.000     -0.5885   0.703 -0.6572\n",
       "Life Exp   -0.0681     0.340 -0.588      1.0000  -0.781  0.5822\n",
       "Murder      0.3436    -0.230  0.703     -0.7808   1.000 -0.4880\n",
       "HS Grad    -0.0985     0.620 -0.657      0.5822  -0.488  1.0000"
      ]
     },
     "metadata": {},
     "output_type": "display_data"
    }
   ],
   "source": [
    "cor(states) # 사용 (모든 것) 및 방법 (pearson)에 대한 기본값 사용"
   ]
  },
  {
   "cell_type": "code",
   "execution_count": 46,
   "metadata": {},
   "outputs": [
    {
     "data": {
      "text/html": [
       "<table>\n",
       "<caption>A matrix: 6 × 6 of type dbl</caption>\n",
       "<thead>\n",
       "\t<tr><th></th><th scope=col>Population</th><th scope=col>Income</th><th scope=col>Illiteracy</th><th scope=col>Life Exp</th><th scope=col>Murder</th><th scope=col>HS Grad</th></tr>\n",
       "</thead>\n",
       "<tbody>\n",
       "\t<tr><th scope=row>Population</th><td> 1.000</td><td> 0.125</td><td> 0.313</td><td>-0.104</td><td> 0.346</td><td>-0.383</td></tr>\n",
       "\t<tr><th scope=row>Income</th><td> 0.125</td><td> 1.000</td><td>-0.315</td><td> 0.324</td><td>-0.217</td><td> 0.510</td></tr>\n",
       "\t<tr><th scope=row>Illiteracy</th><td> 0.313</td><td>-0.315</td><td> 1.000</td><td>-0.555</td><td> 0.672</td><td>-0.655</td></tr>\n",
       "\t<tr><th scope=row>Life Exp</th><td>-0.104</td><td> 0.324</td><td>-0.555</td><td> 1.000</td><td>-0.780</td><td> 0.524</td></tr>\n",
       "\t<tr><th scope=row>Murder</th><td> 0.346</td><td>-0.217</td><td> 0.672</td><td>-0.780</td><td> 1.000</td><td>-0.437</td></tr>\n",
       "\t<tr><th scope=row>HS Grad</th><td>-0.383</td><td> 0.510</td><td>-0.655</td><td> 0.524</td><td>-0.437</td><td> 1.000</td></tr>\n",
       "</tbody>\n",
       "</table>\n"
      ],
      "text/latex": [
       "A matrix: 6 × 6 of type dbl\n",
       "\\begin{tabular}{r|llllll}\n",
       "  & Population & Income & Illiteracy & Life Exp & Murder & HS Grad\\\\\n",
       "\\hline\n",
       "\tPopulation &  1.000 &  0.125 &  0.313 & -0.104 &  0.346 & -0.383\\\\\n",
       "\tIncome &  0.125 &  1.000 & -0.315 &  0.324 & -0.217 &  0.510\\\\\n",
       "\tIlliteracy &  0.313 & -0.315 &  1.000 & -0.555 &  0.672 & -0.655\\\\\n",
       "\tLife Exp & -0.104 &  0.324 & -0.555 &  1.000 & -0.780 &  0.524\\\\\n",
       "\tMurder &  0.346 & -0.217 &  0.672 & -0.780 &  1.000 & -0.437\\\\\n",
       "\tHS Grad & -0.383 &  0.510 & -0.655 &  0.524 & -0.437 &  1.000\\\\\n",
       "\\end{tabular}\n"
      ],
      "text/markdown": [
       "\n",
       "A matrix: 6 × 6 of type dbl\n",
       "\n",
       "| <!--/--> | Population | Income | Illiteracy | Life Exp | Murder | HS Grad |\n",
       "|---|---|---|---|---|---|---|\n",
       "| Population |  1.000 |  0.125 |  0.313 | -0.104 |  0.346 | -0.383 |\n",
       "| Income |  0.125 |  1.000 | -0.315 |  0.324 | -0.217 |  0.510 |\n",
       "| Illiteracy |  0.313 | -0.315 |  1.000 | -0.555 |  0.672 | -0.655 |\n",
       "| Life Exp | -0.104 |  0.324 | -0.555 |  1.000 | -0.780 |  0.524 |\n",
       "| Murder |  0.346 | -0.217 |  0.672 | -0.780 |  1.000 | -0.437 |\n",
       "| HS Grad | -0.383 |  0.510 | -0.655 |  0.524 | -0.437 |  1.000 |\n",
       "\n"
      ],
      "text/plain": [
       "           Population Income Illiteracy Life Exp Murder HS Grad\n",
       "Population  1.000      0.125  0.313     -0.104    0.346 -0.383 \n",
       "Income      0.125      1.000 -0.315      0.324   -0.217  0.510 \n",
       "Illiteracy  0.313     -0.315  1.000     -0.555    0.672 -0.655 \n",
       "Life Exp   -0.104      0.324 -0.555      1.000   -0.780  0.524 \n",
       "Murder      0.346     -0.217  0.672     -0.780    1.000 -0.437 \n",
       "HS Grad    -0.383      0.510 -0.655      0.524   -0.437  1.000 "
      ]
     },
     "metadata": {},
     "output_type": "display_data"
    }
   ],
   "source": [
    "cor(states, method = \"spearman\") # 사용 기본값 사용 (모든 항목)"
   ]
  },
  {
   "cell_type": "code",
   "execution_count": 47,
   "metadata": {},
   "outputs": [
    {
     "data": {
      "text/html": [
       "<table>\n",
       "<caption>A matrix: 4 × 2 of type dbl</caption>\n",
       "<thead>\n",
       "\t<tr><th></th><th scope=col>Life Exp</th><th scope=col>Murder</th></tr>\n",
       "</thead>\n",
       "<tbody>\n",
       "\t<tr><th scope=row>Population</th><td>-0.0681</td><td> 0.344</td></tr>\n",
       "\t<tr><th scope=row>Income</th><td> 0.3403</td><td>-0.230</td></tr>\n",
       "\t<tr><th scope=row>Illiteracy</th><td>-0.5885</td><td> 0.703</td></tr>\n",
       "\t<tr><th scope=row>HS Grad</th><td> 0.5822</td><td>-0.488</td></tr>\n",
       "</tbody>\n",
       "</table>\n"
      ],
      "text/latex": [
       "A matrix: 4 × 2 of type dbl\n",
       "\\begin{tabular}{r|ll}\n",
       "  & Life Exp & Murder\\\\\n",
       "\\hline\n",
       "\tPopulation & -0.0681 &  0.344\\\\\n",
       "\tIncome &  0.3403 & -0.230\\\\\n",
       "\tIlliteracy & -0.5885 &  0.703\\\\\n",
       "\tHS Grad &  0.5822 & -0.488\\\\\n",
       "\\end{tabular}\n"
      ],
      "text/markdown": [
       "\n",
       "A matrix: 4 × 2 of type dbl\n",
       "\n",
       "| <!--/--> | Life Exp | Murder |\n",
       "|---|---|---|\n",
       "| Population | -0.0681 |  0.344 |\n",
       "| Income |  0.3403 | -0.230 |\n",
       "| Illiteracy | -0.5885 |  0.703 |\n",
       "| HS Grad |  0.5822 | -0.488 |\n",
       "\n"
      ],
      "text/plain": [
       "           Life Exp Murder\n",
       "Population -0.0681   0.344\n",
       "Income      0.3403  -0.230\n",
       "Illiteracy -0.5885   0.703\n",
       "HS Grad     0.5822  -0.488"
      ]
     },
     "metadata": {},
     "output_type": "display_data"
    }
   ],
   "source": [
    "# 기본적으로 정사각형 행렬을 얻습니다 (즉, 다른 모든 변수와 교차하는 모든 변수).\n",
    "# 다음과 같이 정사각형이 아닌 변수를 생성 할 수도 있습니다.\n",
    "x = states[, c(\"Population\", \"Income\", \"Illiteracy\", \"HS Grad\")]\n",
    "y = states[, c(\"Life Exp\", \"Murder\")]\n",
    "cor(x, y)"
   ]
  },
  {
   "cell_type": "markdown",
   "metadata": {},
   "source": [
    "#### Partial correlations"
   ]
  },
  {
   "cell_type": "code",
   "execution_count": 48,
   "metadata": {},
   "outputs": [
    {
     "name": "stderr",
     "output_type": "stream",
     "text": [
      "Loading required package: igraph\n",
      "\n",
      "\n",
      "Attaching package: ‘igraph’\n",
      "\n",
      "\n",
      "The following objects are masked from ‘package:stats’:\n",
      "\n",
      "    decompose, spectrum\n",
      "\n",
      "\n",
      "The following object is masked from ‘package:base’:\n",
      "\n",
      "    union\n",
      "\n",
      "\n",
      "\n",
      "Attaching package: ‘ggm’\n",
      "\n",
      "\n",
      "The following object is masked from ‘package:igraph’:\n",
      "\n",
      "    pa\n",
      "\n",
      "\n"
     ]
    }
   ],
   "source": [
    "# 편 상관은 하나 이상의 양적 변수를 제어하는 2 개의 양적 변수 간의 상관 관계입니다.\n",
    "#ggm 패키지의 pcor () 함수는 편 상관 계수를 제공합니다. 여기에 예가 있습니다.\n",
    "# install.packages(\"ggm\") #install the ggm package\n",
    "library(ggm) #load the ggm package\n",
    "# colnames(states) #names of the columns of the states.x77 dataset in R"
   ]
  },
  {
   "cell_type": "code",
   "execution_count": 90,
   "metadata": {},
   "outputs": [
    {
     "data": {
      "text/html": [
       "0.346272371372947"
      ],
      "text/latex": [
       "0.346272371372947"
      ],
      "text/markdown": [
       "0.346272371372947"
      ],
      "text/plain": [
       "[1] 0.346"
      ]
     },
     "metadata": {},
     "output_type": "display_data"
    }
   ],
   "source": [
    "#pcor () 함수의 형식은 다음과 같습니다.\n",
    "#pcor (u, S) 여기서 u는 숫자로 구성된 벡터이며 처음 두 숫자는 상관 될 숫자의 인덱스입니다.\n",
    "#나머지 숫자는 조건화 변수의 인덱스입니다.\n",
    "#S는 변수 간의 공분산 행렬입니다.\n",
    "\n",
    "pcor(c(1, 5, 2, 3, 6), stats::cov(states)) \n",
    "\n",
    "# pcor.test(as.numeric(states[,c(1)]),as.numeric(states[,c(5)]),as.numeric(states[,c(2)])) \n",
    "# 여기서 1 = 인구 및 5 = 살인은 상관 될 두 변수입니다.\n",
    "# 소득, 문맹 퇴치 및 고등 교육은 조건 제어 변수입니다.\n",
    "#cov (states)는 변수 간의 공분산 행렬입니다.\n",
    "#cov () 함수가 작동하도록하려면 stats :: cov (dataset)를 사용하여 패키지 이름을 지정합니다."
   ]
  },
  {
   "cell_type": "code",
   "execution_count": null,
   "metadata": {},
   "outputs": [],
   "source": [
    "#이 경우 0.346은 다음에 대한 인구와 살인율 간의 상관 관계입니다.\n",
    "# 소득, 문맹률 및 HS 졸업률"
   ]
  },
  {
   "cell_type": "markdown",
   "metadata": {
    "collapsed": true
   },
   "source": [
    "#### Other types of correlations"
   ]
  },
  {
   "cell_type": "code",
   "execution_count": 87,
   "metadata": {},
   "outputs": [],
   "source": [
    "#polycor 패키지의 hatcor () 함수는 다음을 포함하는 이기종 상관 행렬을 계산할 수 있습니다.\n",
    "# 숫자 변수 사이의 피어슨 제품-순간 상관 관계,\n",
    "# 숫자 변수와 순서 변수 간의 다중 직렬 상관 관계,\n",
    "# 서수 변수 간의 다합 적 상관 관계\n",
    "# 두 이분법 적 변수 간의 사분 법적 상관 관계.\n",
    "#Polyserial, polychoric 및 tetrachoric 상관 관계는 순서 형 또는이 분형 변수가\n",
    "#은 기본 정규 분포에서 파생됩니다."
   ]
  },
  {
   "cell_type": "markdown",
   "metadata": {},
   "source": [
    "### Testing correlations for significance"
   ]
  },
  {
   "cell_type": "code",
   "execution_count": 88,
   "metadata": {},
   "outputs": [
    {
     "data": {
      "text/plain": [
       "\n",
       "\tPearson's product-moment correlation\n",
       "\n",
       "data:  states[, 3] and states[, 5]\n",
       "t = 7, df = 48, p-value = 1e-08\n",
       "alternative hypothesis: true correlation is not equal to 0\n",
       "95 percent confidence interval:\n",
       " 0.528 0.821\n",
       "sample estimates:\n",
       "  cor \n",
       "0.703 \n"
      ]
     },
     "metadata": {},
     "output_type": "display_data"
    }
   ],
   "source": [
    "# cor.test () 함수를 사용하여 개별 상관 계수를 테스트 할 수 있습니다.\n",
    "# 형식 : cor.test (x, y, alternative =, method =), 여기서\n",
    "#x와 y는 상관 될 변수입니다.\n",
    "#alternative는 \"two.side\"일 수 있습니다 (기본값, 모집단 상관 관계는 0이 아님). \"적음\"(인구 상관 관계 <0); 또는\n",
    "                      # \"크게\"(인구 상관 관계> 0)\n",
    "#method는 \"pearson\"(기본값), \"kendall\"또는 \"spearman\"일 수 있습니다.\n",
    "# 예 :\n",
    "cor.test(states[, 3], states[, 5]) # 문맹률과 살인 률의 상관 관계 테스트\n",
    "                                   # 기본값 : 대안 = \"two.side\"및 방법 = \"pearson\""
   ]
  },
  {
   "cell_type": "code",
   "execution_count": 118,
   "metadata": {},
   "outputs": [],
   "source": [
    "# 위의 코드는 문맹률과 살인 률 사이의 피어슨 상관 관계가 0임을 테스트합니다.\n",
    "#이 변수들 사이의 인구 상관 관계가 실제로 0이라면,\n",
    "# 1000 만 중 1 회 미만 0.703만큼 큰 표본 상관 관계 (즉, p- 값 = 1e-08 또는 1/10 ^ 8)\n",
    "# 문맹률과 살인 률의 상관 관계가 0이라는 귀무 가설을 기각합니다.\n",
    "# 문맹률과 살인 률 사이의 상관 관계가 0이 아니라는 대립 가설을 받아들입니다."
   ]
  },
  {
   "cell_type": "code",
   "execution_count": 119,
   "metadata": {},
   "outputs": [
    {
     "data": {
      "text/plain": [
       "Call:corr.test(x = states, use = \"complete\")\n",
       "Correlation matrix \n",
       "           Population Income Illiteracy Life Exp Murder HS Grad\n",
       "Population       1.00   0.21       0.11    -0.07   0.34   -0.10\n",
       "Income           0.21   1.00      -0.44     0.34  -0.23    0.62\n",
       "Illiteracy       0.11  -0.44       1.00    -0.59   0.70   -0.66\n",
       "Life Exp        -0.07   0.34      -0.59     1.00  -0.78    0.58\n",
       "Murder           0.34  -0.23       0.70    -0.78   1.00   -0.49\n",
       "HS Grad         -0.10   0.62      -0.66     0.58  -0.49    1.00\n",
       "Sample Size \n",
       "[1] 50\n",
       "Probability values (Entries above the diagonal are adjusted for multiple tests.) \n",
       "           Population Income Illiteracy Life Exp Murder HS Grad\n",
       "Population       0.00   0.59       1.00      1.0   0.10       1\n",
       "Income           0.15   0.00       0.01      0.1   0.54       0\n",
       "Illiteracy       0.46   0.00       0.00      0.0   0.00       0\n",
       "Life Exp         0.64   0.02       0.00      0.0   0.00       0\n",
       "Murder           0.01   0.11       0.00      0.0   0.00       0\n",
       "HS Grad          0.50   0.00       0.00      0.0   0.00       0\n",
       "\n",
       " To see confidence intervals of the correlations, print with the short=FALSE option"
      ]
     },
     "metadata": {},
     "output_type": "display_data"
    }
   ],
   "source": [
    "# cor.test ()를 사용하면 한 번에 하나의 상관 관계 만 테스트 할 수 있습니다.\n",
    "# \"psych\"패키지의 corr.test () 함수를 사용하면 더 나아갈 수 있습니다. 여기에 예가 있습니다.\n",
    "# library(psych) #load the psych library\n",
    "corr.test(states, use = \"complete\") # \"complete\"= 누락 된 값의 목록 별 삭제"
   ]
  },
  {
   "cell_type": "code",
   "execution_count": 120,
   "metadata": {},
   "outputs": [],
   "source": [
    "# 위의 코드에서 모집단 크기와 HS 졸업률 (-0.10)의 상관 관계가 0 (p = 0.50)과 크게 다르지 않음을 알 수 있습니다."
   ]
  },
  {
   "cell_type": "markdown",
   "metadata": {},
   "source": [
    "## T-tests"
   ]
  },
  {
   "cell_type": "code",
   "execution_count": 121,
   "metadata": {},
   "outputs": [],
   "source": [
    "# t-test는 두 그룹을 비교하는 데 도움이됩니다."
   ]
  },
  {
   "cell_type": "markdown",
   "metadata": {},
   "source": [
    "### Independent t-test"
   ]
  },
  {
   "cell_type": "code",
   "execution_count": 123,
   "metadata": {},
   "outputs": [
    {
     "data": {
      "text/plain": [
       "\n",
       "\tWelch Two Sample t-test\n",
       "\n",
       "data:  Prob by So\n",
       "t = -4, df = 25, p-value = 7e-04\n",
       "alternative hypothesis: true difference in means is not equal to 0\n",
       "95 percent confidence interval:\n",
       " -0.0385 -0.0119\n",
       "sample estimates:\n",
       "mean in group 0 mean in group 1 \n",
       "         0.0385          0.0637 \n"
      ]
     },
     "metadata": {},
     "output_type": "display_data"
    }
   ],
   "source": [
    "# 미국 남부에서 범죄를 저질렀다면 투옥 될 가능성이 더 높습니까?\n",
    "# 관심의 비교는 남부 주와 비 남부 주입니다.\n",
    "# 그리고 종속 변수는 감금 될 확률입니다.\n",
    "# 두 집단 독립 t- 검정을 사용하여 두 모집단 평균이 같다는 가설을 검정 할 수 있습니다.\n",
    "# 우리는 MASS 패키지의 UScrime 데이터 세트를 사용하여이 가설을 테스트합니다.\n",
    "library(MASS) #attach the MASS package\n",
    "t.test(Prob ~ So, data = UScrime) #Prob = 투옥 가능성; 그래서 = 남부 주에 대한 표시 변수"
   ]
  },
  {
   "cell_type": "code",
   "execution_count": null,
   "metadata": {},
   "outputs": [],
   "source": [
    "# 위의 결과에서 남부 주와 남부가 아닌 주에 대한 귀무 가설을 기각 할 수 있습니다.\n",
    "# 동일한 투옥 확률 (p <0.001)"
   ]
  },
  {
   "cell_type": "markdown",
   "metadata": {},
   "source": [
    "### Dependent t-test"
   ]
  },
  {
   "cell_type": "code",
   "execution_count": 125,
   "metadata": {},
   "outputs": [
    {
     "data": {
      "text/html": [
       "<table>\n",
       "<caption>A matrix: 2 × 2 of type dbl</caption>\n",
       "<thead>\n",
       "\t<tr><th></th><th scope=col>U1</th><th scope=col>U2</th></tr>\n",
       "</thead>\n",
       "<tbody>\n",
       "\t<tr><th scope=row>mean</th><td>95.5</td><td>33.98</td></tr>\n",
       "\t<tr><th scope=row>sd</th><td>18.0</td><td> 8.45</td></tr>\n",
       "</tbody>\n",
       "</table>\n"
      ],
      "text/latex": [
       "A matrix: 2 × 2 of type dbl\n",
       "\\begin{tabular}{r|ll}\n",
       "  & U1 & U2\\\\\n",
       "\\hline\n",
       "\tmean & 95.5 & 33.98\\\\\n",
       "\tsd & 18.0 &  8.45\\\\\n",
       "\\end{tabular}\n"
      ],
      "text/markdown": [
       "\n",
       "A matrix: 2 × 2 of type dbl\n",
       "\n",
       "| <!--/--> | U1 | U2 |\n",
       "|---|---|---|\n",
       "| mean | 95.5 | 33.98 |\n",
       "| sd | 18.0 |  8.45 |\n",
       "\n"
      ],
      "text/plain": [
       "     U1   U2   \n",
       "mean 95.5 33.98\n",
       "sd   18.0  8.45"
      ]
     },
     "metadata": {},
     "output_type": "display_data"
    }
   ],
   "source": [
    "# 젊은 남성 (14-24 세)> 노인 남성 (35-39 세)의 실업률은?\n",
    "# 이 경우, 두 그룹은 독립적이지 않습니다. 앨라배마 주에있는 젊고 나이 많은 남성의 실업률이 무관하다고 기대하지 않기 때문입니다.\n",
    "# library(MASS) #attach the MASS package\n",
    "sapply(UScrime[c(\"U1\", \"U2\")], function(x)(c(mean = mean(x), sd = sd(x)))) #use sapply() to calculate mean and sd for the 2 groups"
   ]
  },
  {
   "cell_type": "code",
   "execution_count": 126,
   "metadata": {},
   "outputs": [
    {
     "data": {
      "text/plain": [
       "\n",
       "\tPaired t-test\n",
       "\n",
       "data:  U1 and U2\n",
       "t = 32, df = 46, p-value <2e-16\n",
       "alternative hypothesis: true difference in means is not equal to 0\n",
       "95 percent confidence interval:\n",
       " 57.7 65.3\n",
       "sample estimates:\n",
       "mean of the differences \n",
       "                   61.5 \n"
      ]
     },
     "metadata": {},
     "output_type": "display_data"
    }
   ],
   "source": [
    "with(UScrime, t.test(U1, U2, paired = T))"
   ]
  },
  {
   "cell_type": "code",
   "execution_count": null,
   "metadata": {},
   "outputs": [],
   "source": [
    "# 평균 차이 (61.5)는 평균이 다음과 같은 가설을 거부 할만큼 충분히 큽니다.\n",
    "# 연령 남성 실업률은 동일하다. 젊은 남성은 비율이 더 높습니다.\n",
    "# 모집단 평균이 같으면 이렇게 큰 표본 차이를 얻을 확률은 다음과 같습니다.\n",
    "# 0.0000000000000002 미만 (예 : 2e-16 또는 2 * 10 ^ -16의 p- 값)"
   ]
  },
  {
   "cell_type": "markdown",
   "metadata": {
    "collapsed": true
   },
   "source": [
    "## 그룹 차이에 대한 비모수 검정"
   ]
  },
  {
   "cell_type": "code",
   "execution_count": 130,
   "metadata": {},
   "outputs": [],
   "source": [
    "# 결과 변수가 본질적으로 심하게 치우쳐 있거나 순서가있는 경우 비모수 테스트를 사용하는 것이 좋습니다."
   ]
  },
  {
   "cell_type": "markdown",
   "metadata": {},
   "source": [
    "### Comparing two groups"
   ]
  },
  {
   "cell_type": "code",
   "execution_count": 131,
   "metadata": {},
   "outputs": [
    {
     "data": {
      "text/plain": [
       "So: 0\n",
       "[1] 0.0382\n",
       "------------------------------------------------------------ \n",
       "So: 1\n",
       "[1] 0.0556"
      ]
     },
     "metadata": {},
     "output_type": "display_data"
    }
   ],
   "source": [
    "# 두 그룹이 독립적 인 경우 Wilcoxon 순위 합계 테스트 (Mann-Whitney U 테스트라고도 함)를 사용할 수 있습니다.\n",
    "# 예 :\n",
    "# library(MASS) #load the MASS package\n",
    "with(UScrime, by(Prob, So, median)) #calculate median probabilities of incarceration rates by Southern v/s non-Southern states"
   ]
  },
  {
   "cell_type": "code",
   "execution_count": 132,
   "metadata": {},
   "outputs": [
    {
     "data": {
      "text/plain": [
       "\n",
       "\tWilcoxon rank sum exact test\n",
       "\n",
       "data:  Prob by So\n",
       "W = 81, p-value = 8e-05\n",
       "alternative hypothesis: true location shift is not equal to 0\n"
      ]
     },
     "metadata": {},
     "output_type": "display_data"
    }
   ],
   "source": [
    "wilcox.test(Prob ~ So, data = UScrime) #run the test"
   ]
  },
  {
   "cell_type": "code",
   "execution_count": 133,
   "metadata": {},
   "outputs": [],
   "source": [
    "# 구금 률이 동일하다는 귀무 가설을 기각 할 수 있습니다.\n",
    "# 남부 및 비 남부 주 (p- 값 <0.001 이후, 8e-05 = 8 * 10 ^ -5)"
   ]
  },
  {
   "cell_type": "code",
   "execution_count": 134,
   "metadata": {},
   "outputs": [
    {
     "data": {
      "text/html": [
       "<style>\n",
       ".dl-inline {width: auto; margin:0; padding: 0}\n",
       ".dl-inline>dt, .dl-inline>dd {float: none; width: auto; display: inline-block}\n",
       ".dl-inline>dt::after {content: \":\\0020\"; padding-right: .5ex}\n",
       ".dl-inline>dt:not(:first-of-type) {padding-left: .5ex}\n",
       "</style><dl class=dl-inline><dt>U1</dt><dd>92</dd><dt>U2</dt><dd>34</dd></dl>\n"
      ],
      "text/latex": [
       "\\begin{description*}\n",
       "\\item[U1] 92\n",
       "\\item[U2] 34\n",
       "\\end{description*}\n"
      ],
      "text/markdown": [
       "U1\n",
       ":   92U2\n",
       ":   34\n",
       "\n"
      ],
      "text/plain": [
       "U1 U2 \n",
       "92 34 "
      ]
     },
     "metadata": {},
     "output_type": "display_data"
    }
   ],
   "source": [
    "# 두 그룹이 쌍을 이루는 경우 동일한 테스트를 적용 할 수 있지만 paired = TRUE 옵션을 사용합니다.\n",
    "sapply(UScrime[c(\"U1\", \"U2\")], median) # 노년층 남성의 평균 실업률 계산"
   ]
  },
  {
   "cell_type": "code",
   "execution_count": 135,
   "metadata": {},
   "outputs": [
    {
     "name": "stderr",
     "output_type": "stream",
     "text": [
      "Warning message in wilcox.test.default(U1, U2, paired = T):\n",
      "“cannot compute exact p-value with ties”\n"
     ]
    },
    {
     "data": {
      "text/plain": [
       "\n",
       "\tWilcoxon signed rank test with continuity correction\n",
       "\n",
       "data:  U1 and U2\n",
       "V = 1128, p-value = 2e-09\n",
       "alternative hypothesis: true location shift is not equal to 0\n"
      ]
     },
     "metadata": {},
     "output_type": "display_data"
    }
   ],
   "source": [
    "with(UScrime, wilcox.test(U1, U2, paired = T)) #run the test with paired = T option"
   ]
  },
  {
   "cell_type": "code",
   "execution_count": null,
   "metadata": {},
   "outputs": [],
   "source": [
    "# 다시, p- 값이 0.001 미만이므로 귀무 가설을 기각 할 수 있습니다."
   ]
  },
  {
   "cell_type": "markdown",
   "metadata": {},
   "source": [
    "### Comparing more than two groups"
   ]
  },
  {
   "cell_type": "code",
   "execution_count": null,
   "metadata": {},
   "outputs": [],
   "source": [
    "# 그룹이 독립적 인 경우 Kruskal-Wallis 테스트를 사용할 수 있습니다.\n",
    "# 그룹이 종속 된 경우 Friedman 테스트를 사용할 수 있습니다."
   ]
  },
  {
   "cell_type": "code",
   "execution_count": 144,
   "metadata": {},
   "outputs": [
    {
     "data": {
      "text/plain": [
       "\n",
       "\tKruskal-Wallis rank sum test\n",
       "\n",
       "data:  Illiteracy by state.region\n",
       "Kruskal-Wallis chi-squared = 23, df = 3, p-value = 5e-05\n"
      ]
     },
     "metadata": {},
     "output_type": "display_data"
    }
   ],
   "source": [
    "# 여기 Kruskal-Wallis 테스트의 예가 있습니다.\n",
    "states=data.frame(state.region, state.x77) #데이터 세트에 지역 지정 추가\n",
    "kruskal.test(Illiteracy ~ state.region, data = states) #apply the test"
   ]
  },
  {
   "cell_type": "code",
   "execution_count": 145,
   "metadata": {},
   "outputs": [],
   "source": [
    "#이 유의성 테스트는 문맹률이 네 가지 모두에서 같지 않음을 나타냅니다.\n",
    "# 국가의 지역 (p- 값 <0.001, p- 값 = 5e-05 = 5 * 10 ^ -5)"
   ]
  },
  {
   "cell_type": "code",
   "execution_count": 146,
   "metadata": {},
   "outputs": [
    {
     "data": {
      "text/plain": [
       "             Df Sum Sq Mean Sq F value  Pr(>F)    \n",
       "state.region  3    281    93.7    11.2 1.3e-05 ***\n",
       "Residuals    46    387     8.4                    \n",
       "---\n",
       "Signif. codes:  0 ‘***’ 0.001 ‘**’ 0.01 ‘*’ 0.05 ‘.’ 0.1 ‘ ’ 1"
      ]
     },
     "metadata": {},
     "output_type": "display_data"
    }
   ],
   "source": [
    "summary(aov(Murder~state.region,data=states))"
   ]
  },
  {
   "cell_type": "code",
   "execution_count": 148,
   "metadata": {
    "collapsed": true
   },
   "outputs": [
    {
     "data": {
      "text/html": [
       "<pre class=language-r><code>function (formula, data, exact = FALSE, sort = TRUE, method = \"holm\") \n",
       "{\n",
       "<span style=white-space:pre-wrap>    df &lt;- model.frame(formula, data)</span>\n",
       "<span style=white-space:pre-wrap>    y &lt;- df[[1]]</span>\n",
       "<span style=white-space:pre-wrap>    x &lt;- as.factor(df[[2]])</span>\n",
       "<span style=white-space:pre-wrap>    if (sort) {</span>\n",
       "<span style=white-space:pre-wrap>        medians &lt;- aggregate(y, by = list(x), FUN = median)[2]</span>\n",
       "<span style=white-space:pre-wrap>        index &lt;- order(medians)</span>\n",
       "<span style=white-space:pre-wrap>        x &lt;- factor(x, levels(x)[index])</span>\n",
       "<span style=white-space:pre-wrap>    }</span>\n",
       "<span style=white-space:pre-wrap>    groups &lt;- levels(x)</span>\n",
       "<span style=white-space:pre-wrap>    k &lt;- length(groups)</span>\n",
       "<span style=white-space:pre-wrap>    stats &lt;- function(z) (c(N = length(z), Median = median(z), </span>\n",
       "<span style=white-space:pre-wrap>        MAD = mad(z)))</span>\n",
       "<span style=white-space:pre-wrap>    sumstats &lt;- t(aggregate(y, by = list(x), FUN = stats)[2])</span>\n",
       "<span style=white-space:pre-wrap>    rownames(sumstats) &lt;- c(\"n\", \"median\", \"mad\")</span>\n",
       "<span style=white-space:pre-wrap>    colnames(sumstats) &lt;- groups</span>\n",
       "<span style=white-space:pre-wrap>    cat(\"Descriptive Statistics\\n\\n\")</span>\n",
       "<span style=white-space:pre-wrap>    print(sumstats)</span>\n",
       "<span style=white-space:pre-wrap>    mc &lt;- data.frame(Group.1 = character(0), Group.2 = character(0), </span>\n",
       "<span style=white-space:pre-wrap>        W = numeric(0), p.unadj = numeric(0), p = numeric(0), </span>\n",
       "<span style=white-space:pre-wrap>        stars = character(0), stringsAsFactors = FALSE)</span>\n",
       "<span style=white-space:pre-wrap>    row &lt;- 0</span>\n",
       "<span style=white-space:pre-wrap>    for (i in 1:k) {</span>\n",
       "<span style=white-space:pre-wrap>        for (j in 1:k) {</span>\n",
       "<span style=white-space:pre-wrap>            if (j &gt; i) {</span>\n",
       "<span style=white-space:pre-wrap>                row &lt;- row + 1</span>\n",
       "<span style=white-space:pre-wrap>                y1 &lt;- y[x == groups[i]]</span>\n",
       "<span style=white-space:pre-wrap>                y2 &lt;- y[x == groups[j]]</span>\n",
       "<span style=white-space:pre-wrap>                test &lt;- wilcox.test(y1, y2, exact = exact)</span>\n",
       "<span style=white-space:pre-wrap>                mc[row, 1] &lt;- groups[i]</span>\n",
       "<span style=white-space:pre-wrap>                mc[row, 2] &lt;- groups[j]</span>\n",
       "<span style=white-space:pre-wrap>                mc[row, 3] &lt;- test$statistic</span>\n",
       "<span style=white-space:pre-wrap>                mc[row, 4] &lt;- test$p.value</span>\n",
       "<span style=white-space:pre-wrap>            }</span>\n",
       "<span style=white-space:pre-wrap>        }</span>\n",
       "<span style=white-space:pre-wrap>    }</span>\n",
       "<span style=white-space:pre-wrap>    mc$p &lt;- p.adjust(mc$p.unadj, method = method)</span>\n",
       "<span style=white-space:pre-wrap>    mc$stars &lt;- \" \"</span>\n",
       "<span style=white-space:pre-wrap>    mc$stars[mc$p &lt; 0.1] &lt;- \".\"</span>\n",
       "<span style=white-space:pre-wrap>    mc$stars[mc$p &lt; 0.05] &lt;- \"*\"</span>\n",
       "<span style=white-space:pre-wrap>    mc$stars[mc$p &lt; 0.01] &lt;- \"**\"</span>\n",
       "<span style=white-space:pre-wrap>    mc$stars[mc$p &lt; 0.001] &lt;- \"***\"</span>\n",
       "<span style=white-space:pre-wrap>    names(mc)[6] &lt;- \" \"</span>\n",
       "<span style=white-space:pre-wrap>    cat(\"\\nMultiple Comparisons (Wilcoxon Rank Sum Tests)\\n\")</span>\n",
       "<span style=white-space:pre-wrap>    cat(paste(\"Probability Adjustment = \", method, \"\\n\\n\", sep = \"\"))</span>\n",
       "<span style=white-space:pre-wrap>    print(mc[-4], right = TRUE)</span>\n",
       "<span style=white-space:pre-wrap>    cat(\"---\\nSignif. codes:  0 '***' 0.001 '**' 0.01 '*' 0.05 '.' 0.1 ' ' 1\\n\")</span>\n",
       "<span style=white-space:pre-wrap>    return(invisible(NULL))</span>\n",
       "}</code></pre>"
      ],
      "text/latex": [
       "\\begin{minted}{r}\n",
       "function (formula, data, exact = FALSE, sort = TRUE, method = \"holm\") \n",
       "\\{\n",
       "    df <- model.frame(formula, data)\n",
       "    y <- df{[}{[}1{]}{]}\n",
       "    x <- as.factor(df{[}{[}2{]}{]})\n",
       "    if (sort) \\{\n",
       "        medians <- aggregate(y, by = list(x), FUN = median){[}2{]}\n",
       "        index <- order(medians)\n",
       "        x <- factor(x, levels(x){[}index{]})\n",
       "    \\}\n",
       "    groups <- levels(x)\n",
       "    k <- length(groups)\n",
       "    stats <- function(z) (c(N = length(z), Median = median(z), \n",
       "        MAD = mad(z)))\n",
       "    sumstats <- t(aggregate(y, by = list(x), FUN = stats){[}2{]})\n",
       "    rownames(sumstats) <- c(\"n\", \"median\", \"mad\")\n",
       "    colnames(sumstats) <- groups\n",
       "    cat(\"Descriptive Statistics\\textbackslash{}n\\textbackslash{}n\")\n",
       "    print(sumstats)\n",
       "    mc <- data.frame(Group.1 = character(0), Group.2 = character(0), \n",
       "        W = numeric(0), p.unadj = numeric(0), p = numeric(0), \n",
       "        stars = character(0), stringsAsFactors = FALSE)\n",
       "    row <- 0\n",
       "    for (i in 1:k) \\{\n",
       "        for (j in 1:k) \\{\n",
       "            if (j > i) \\{\n",
       "                row <- row + 1\n",
       "                y1 <- y{[}x == groups{[}i{]}{]}\n",
       "                y2 <- y{[}x == groups{[}j{]}{]}\n",
       "                test <- wilcox.test(y1, y2, exact = exact)\n",
       "                mc{[}row, 1{]} <- groups{[}i{]}\n",
       "                mc{[}row, 2{]} <- groups{[}j{]}\n",
       "                mc{[}row, 3{]} <- test\\$statistic\n",
       "                mc{[}row, 4{]} <- test\\$p.value\n",
       "            \\}\n",
       "        \\}\n",
       "    \\}\n",
       "    mc\\$p <- p.adjust(mc\\$p.unadj, method = method)\n",
       "    mc\\$stars <- \" \"\n",
       "    mc\\$stars{[}mc\\$p < 0.1{]} <- \".\"\n",
       "    mc\\$stars{[}mc\\$p < 0.05{]} <- \"*\"\n",
       "    mc\\$stars{[}mc\\$p < 0.01{]} <- \"**\"\n",
       "    mc\\$stars{[}mc\\$p < 0.001{]} <- \"***\"\n",
       "    names(mc){[}6{]} <- \" \"\n",
       "    cat(\"\\textbackslash{}nMultiple Comparisons (Wilcoxon Rank Sum Tests)\\textbackslash{}n\")\n",
       "    cat(paste(\"Probability Adjustment = \", method, \"\\textbackslash{}n\\textbackslash{}n\", sep = \"\"))\n",
       "    print(mc{[}-4{]}, right = TRUE)\n",
       "    cat(\"---\\textbackslash{}nSignif. codes:  0 '***' 0.001 '**' 0.01 '*' 0.05 '.' 0.1 ' ' 1\\textbackslash{}n\")\n",
       "    return(invisible(NULL))\n",
       "\\}\n",
       "\\end{minted}"
      ],
      "text/markdown": [
       "```r\n",
       "function (formula, data, exact = FALSE, sort = TRUE, method = \"holm\") \n",
       "{\n",
       "    df <- model.frame(formula, data)\n",
       "    y <- df[[1]]\n",
       "    x <- as.factor(df[[2]])\n",
       "    if (sort) {\n",
       "        medians <- aggregate(y, by = list(x), FUN = median)[2]\n",
       "        index <- order(medians)\n",
       "        x <- factor(x, levels(x)[index])\n",
       "    }\n",
       "    groups <- levels(x)\n",
       "    k <- length(groups)\n",
       "    stats <- function(z) (c(N = length(z), Median = median(z), \n",
       "        MAD = mad(z)))\n",
       "    sumstats <- t(aggregate(y, by = list(x), FUN = stats)[2])\n",
       "    rownames(sumstats) <- c(\"n\", \"median\", \"mad\")\n",
       "    colnames(sumstats) <- groups\n",
       "    cat(\"Descriptive Statistics\\n\\n\")\n",
       "    print(sumstats)\n",
       "    mc <- data.frame(Group.1 = character(0), Group.2 = character(0), \n",
       "        W = numeric(0), p.unadj = numeric(0), p = numeric(0), \n",
       "        stars = character(0), stringsAsFactors = FALSE)\n",
       "    row <- 0\n",
       "    for (i in 1:k) {\n",
       "        for (j in 1:k) {\n",
       "            if (j > i) {\n",
       "                row <- row + 1\n",
       "                y1 <- y[x == groups[i]]\n",
       "                y2 <- y[x == groups[j]]\n",
       "                test <- wilcox.test(y1, y2, exact = exact)\n",
       "                mc[row, 1] <- groups[i]\n",
       "                mc[row, 2] <- groups[j]\n",
       "                mc[row, 3] <- test$statistic\n",
       "                mc[row, 4] <- test$p.value\n",
       "            }\n",
       "        }\n",
       "    }\n",
       "    mc$p <- p.adjust(mc$p.unadj, method = method)\n",
       "    mc$stars <- \" \"\n",
       "    mc$stars[mc$p < 0.1] <- \".\"\n",
       "    mc$stars[mc$p < 0.05] <- \"*\"\n",
       "    mc$stars[mc$p < 0.01] <- \"**\"\n",
       "    mc$stars[mc$p < 0.001] <- \"***\"\n",
       "    names(mc)[6] <- \" \"\n",
       "    cat(\"\\nMultiple Comparisons (Wilcoxon Rank Sum Tests)\\n\")\n",
       "    cat(paste(\"Probability Adjustment = \", method, \"\\n\\n\", sep = \"\"))\n",
       "    print(mc[-4], right = TRUE)\n",
       "    cat(\"---\\nSignif. codes:  0 '***' 0.001 '**' 0.01 '*' 0.05 '.' 0.1 ' ' 1\\n\")\n",
       "    return(invisible(NULL))\n",
       "}\n",
       "```"
      ],
      "text/plain": [
       "function (formula, data, exact = FALSE, sort = TRUE, method = \"holm\") \n",
       "{\n",
       "    df <- model.frame(formula, data)\n",
       "    y <- df[[1]]\n",
       "    x <- as.factor(df[[2]])\n",
       "    if (sort) {\n",
       "        medians <- aggregate(y, by = list(x), FUN = median)[2]\n",
       "        index <- order(medians)\n",
       "        x <- factor(x, levels(x)[index])\n",
       "    }\n",
       "    groups <- levels(x)\n",
       "    k <- length(groups)\n",
       "    stats <- function(z) (c(N = length(z), Median = median(z), \n",
       "        MAD = mad(z)))\n",
       "    sumstats <- t(aggregate(y, by = list(x), FUN = stats)[2])\n",
       "    rownames(sumstats) <- c(\"n\", \"median\", \"mad\")\n",
       "    colnames(sumstats) <- groups\n",
       "    cat(\"Descriptive Statistics\\n\\n\")\n",
       "    print(sumstats)\n",
       "    mc <- data.frame(Group.1 = character(0), Group.2 = character(0), \n",
       "        W = numeric(0), p.unadj = numeric(0), p = numeric(0), \n",
       "        stars = character(0), stringsAsFactors = FALSE)\n",
       "    row <- 0\n",
       "    for (i in 1:k) {\n",
       "        for (j in 1:k) {\n",
       "            if (j > i) {\n",
       "                row <- row + 1\n",
       "                y1 <- y[x == groups[i]]\n",
       "                y2 <- y[x == groups[j]]\n",
       "                test <- wilcox.test(y1, y2, exact = exact)\n",
       "                mc[row, 1] <- groups[i]\n",
       "                mc[row, 2] <- groups[j]\n",
       "                mc[row, 3] <- test$statistic\n",
       "                mc[row, 4] <- test$p.value\n",
       "            }\n",
       "        }\n",
       "    }\n",
       "    mc$p <- p.adjust(mc$p.unadj, method = method)\n",
       "    mc$stars <- \" \"\n",
       "    mc$stars[mc$p < 0.1] <- \".\"\n",
       "    mc$stars[mc$p < 0.05] <- \"*\"\n",
       "    mc$stars[mc$p < 0.01] <- \"**\"\n",
       "    mc$stars[mc$p < 0.001] <- \"***\"\n",
       "    names(mc)[6] <- \" \"\n",
       "    cat(\"\\nMultiple Comparisons (Wilcoxon Rank Sum Tests)\\n\")\n",
       "    cat(paste(\"Probability Adjustment = \", method, \"\\n\\n\", sep = \"\"))\n",
       "    print(mc[-4], right = TRUE)\n",
       "    cat(\"---\\nSignif. codes:  0 '***' 0.001 '**' 0.01 '*' 0.05 '.' 0.1 ' ' 1\\n\")\n",
       "    return(invisible(NULL))\n",
       "}\n",
       "<bytecode: 0x56083c1a6378>"
      ]
     },
     "metadata": {},
     "output_type": "display_data"
    }
   ],
   "source": [
    "wmc"
   ]
  },
  {
   "cell_type": "code",
   "execution_count": 149,
   "metadata": {
    "scrolled": true
   },
   "outputs": [
    {
     "name": "stdout",
     "output_type": "stream",
     "text": [
      "Descriptive Statistics\n",
      "\n",
      "         West North Central Northeast  South\n",
      "n      13.000        12.000     9.000 16.000\n",
      "median  0.600         0.700     1.100  1.750\n",
      "mad     0.148         0.148     0.297  0.593\n",
      "\n",
      "Multiple Comparisons (Wilcoxon Rank Sum Tests)\n",
      "Probability Adjustment = holm\n",
      "\n",
      "        Group.1       Group.2    W        p    \n",
      "1          West North Central 88.0 8.67e-01    \n",
      "2          West     Northeast 46.5 8.67e-01    \n",
      "3          West         South 39.0 1.79e-02   *\n",
      "4 North Central     Northeast 20.5 5.36e-02   .\n",
      "5 North Central         South  2.0 8.05e-05 ***\n",
      "6     Northeast         South 18.0 1.19e-02   *\n",
      "---\n",
      "Signif. codes:  0 '***' 0.001 '**' 0.01 '*' 0.05 '.' 0.1 ' ' 1\n"
     ]
    }
   ],
   "source": [
    "# wmc () 함수를 사용한 #비모수 다중 비교\n",
    "source(\"http://www.statmethods.net/RiA/wmc.txt\") #access the function\n",
    "states = data.frame(state.region, state.x77) #create the data frame\n",
    "wmc(Illiteracy ~ state.region, data = states) #run the test"
   ]
  },
  {
   "cell_type": "code",
   "execution_count": null,
   "metadata": {},
   "outputs": [],
   "source": [
    "# 테스트 결과에서 남쪽이 크게 다른 것을 알 수 있습니다.\n",
    "# 다른 세 지역에서 다른 세 지역은\n",
    "# p <0.05 수준에서 서로 다릅니다."
   ]
  },
  {
   "cell_type": "code",
   "execution_count": null,
   "metadata": {},
   "outputs": [],
   "source": [
    "## 설문지의 신뢰도\n",
    "\n",
    "## 내적 합치도를 갖는지 확인 \n",
    "## 문항이 얼마나 일관성을 갖나\n",
    "## 문항이 하나의 개념을 갖는가\n",
    "\n",
    "## 특징\n",
    "## 1에 가까울수록 성능이 좋다. 0.6~0.8 이 좋다.\n",
    "## 변수를 제거했을 때 크론바하 a 값이 커지면 변수를 제외한다. 신뢰성을 높이기 때문.\n",
    "## 문항의수가 a 값에 포함되기때문에 적정한 수의 문항도 있어야한다. \n",
    "\n",
    "## 문제 \n",
    "## 리커트 척도를 이용한 조직의 리더쉽 측정 설문\n",
    "## 1A : 조직의 목표를 안다.\n",
    "## 1B : 조직의 비전을 안다.\n",
    "## 1C : 나의 상사는 조직의 가치를 사용하여 부하를 인도한다.\n",
    "## 1D : 나의 상사는 내가 일할수있는 환경을 만들어준다.\n",
    "## 1E : 나의 상사는 조직의 정보를 공유한다.\n",
    "## 1F : 나의 조직은 내가 어떤생각을 하는지 묻는다.\n",
    "\n",
    "## a= k/k-1 ( 1- 1/s2^2 (sum(s1^2)))\n",
    "## k=문항의 수, s1=i번째 답의 분산 , s2=응답자 답의 합의 분산 "
   ]
  },
  {
   "cell_type": "code",
   "execution_count": null,
   "metadata": {},
   "outputs": [],
   "source": [
    "df=data.frame('1A'=c(5,4,4,5,4,5,5,4,5,5,4,3,5,5,5),\n",
    "              '1B'=c(5,4,5,3,3,2,5,4,5,4,4,2,5,5,4),\n",
    "              '1C'=c(3,3,4,4,5,1,4,3,1,1,3,3,5,3,3),\n",
    "              '1D'=c(3,5,4,4,4,1,4,2,1,2,4,4,1,2,2),\n",
    "              '1E'=c(2,4,4,2,3,1,4,1,1,2,3,3,4,4,4),\n",
    "              '1F'=c(2,4,4,2,3,1,4,1,1,1,2,4,1,4,2))"
   ]
  },
  {
   "cell_type": "code",
   "execution_count": null,
   "metadata": {},
   "outputs": [],
   "source": [
    "## raw_alpha = 0.67 로 신뢰성이 어느정도 있다.\n",
    "library(psych)\n",
    "alpha(df)"
   ]
  }
 ],
 "metadata": {
  "kernelspec": {
   "display_name": "R",
   "language": "R",
   "name": "ir"
  },
  "language_info": {
   "codemirror_mode": "r",
   "file_extension": ".r",
   "mimetype": "text/x-r-source",
   "name": "R",
   "pygments_lexer": "r",
   "version": "4.0.5"
  }
 },
 "nbformat": 4,
 "nbformat_minor": 1
}
